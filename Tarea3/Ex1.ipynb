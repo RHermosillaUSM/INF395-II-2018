{
 "cells": [
  {
   "cell_type": "markdown",
   "metadata": {},
   "source": [
    "<img src=\"http://www.exalumnos.usm.cl/wp-content/uploads/2015/06/MARCA-Color.jpg\" title=\"Title text\" width=\"50%\" height=\"50%\" />\n",
    "\n",
    "\n",
    "<hr style=\"height:2px;border:none\"/>\n",
    "<h1 align='center'> INF-395/477 Redes Neuronales Artificiales II-2018 </h1>\n",
    "\n",
    "<H3 align='center'> Tarea 2 - Redes Convolucionales y sus aplicaciones </H3>\n",
    "<hr style=\"height:2px;border:none\"/>\n",
    "\n",
    "### Pregunta 2. Transfer Learning.\n",
    "\n",
    "Integrantes:\n",
    "\n",
    "- Christian Da Rocha, ROL: 2018.90.251-9\n",
    "- Rodrigo Hermosilla, ROL: 95.74.144-4\n",
    "\n",
    "\n",
    "##### Carga inicial de librerias\n",
    "> En la siguiente sección y de manera previa se cargan todas las librerías necesarias para el ejercicio. Para efectos de mantener cierto orden con el código de las preguntas del ejercicio, se determino que todas las cargas se realizaran previamente, no obstante, se entiende que esto podría generar alguna ineficiencia en el consumo de recursos, pero que suponemos es marginal."
   ]
  },
  {
   "cell_type": "code",
   "execution_count": 1,
   "metadata": {},
   "outputs": [
    {
     "name": "stderr",
     "output_type": "stream",
     "text": [
      "Using TensorFlow backend.\n"
     ]
    }
   ],
   "source": [
    "import numpy as np\n",
    "import pandas as pd\n",
    "from keras.preprocessing import sequence\n",
    "from keras.utils import to_categorical\n",
    "from keras.models import Sequential\n",
    "from keras.layers import LSTM, Embedding, Dense, Dropout, Bidirectional, CuDNNGRU, GRU\n",
    "from sklearn.metrics import f1_score\n",
    "from heapq import nlargest\n",
    "import matplotlib.pyplot as plt\n",
    "from sklearn.model_selection import train_test_split\n",
    "import keras\n",
    "from sklearn.metrics import classification as classification_metrics\n",
    "import sklearn.datasets\n",
    "from sklearn.preprocessing import MultiLabelBinarizer, OneHotEncoder\n",
    "import random,sys\n",
    "from keras.callbacks import LambdaCallback\n",
    "import itertools"
   ]
  },
  {
   "cell_type": "markdown",
   "metadata": {},
   "source": [
    "##### Pregunta A.\n",
    "\n",
    "<div class=\"alert alert-block alert-success\">\n",
    "    <b>Nota: </b>Para efectos de mejorar la modularización, el ejercicio construye una serie de funciones, permitiendo además su reutilización en distintos instantes.\n",
    "</div>"
   ]
  },
  {
   "cell_type": "code",
   "execution_count": 2,
   "metadata": {},
   "outputs": [
    {
     "name": "stderr",
     "output_type": "stream",
     "text": [
      "b'Skipping line 281837: expected 25 fields, saw 34\\n'\n"
     ]
    },
    {
     "data": {
      "text/html": [
       "<div>\n",
       "<style scoped>\n",
       "    .dataframe tbody tr th:only-of-type {\n",
       "        vertical-align: middle;\n",
       "    }\n",
       "\n",
       "    .dataframe tbody tr th {\n",
       "        vertical-align: top;\n",
       "    }\n",
       "\n",
       "    .dataframe thead th {\n",
       "        text-align: right;\n",
       "    }\n",
       "</style>\n",
       "<table border=\"1\" class=\"dataframe\">\n",
       "  <thead>\n",
       "    <tr style=\"text-align: right;\">\n",
       "      <th></th>\n",
       "      <th>lemma</th>\n",
       "      <th>word</th>\n",
       "      <th>pos</th>\n",
       "      <th>tag</th>\n",
       "      <th>prev-iob</th>\n",
       "    </tr>\n",
       "  </thead>\n",
       "  <tbody>\n",
       "    <tr>\n",
       "      <th>0</th>\n",
       "      <td>thousand</td>\n",
       "      <td>Thousands</td>\n",
       "      <td>NNS</td>\n",
       "      <td>O</td>\n",
       "      <td>__START1__</td>\n",
       "    </tr>\n",
       "    <tr>\n",
       "      <th>1</th>\n",
       "      <td>of</td>\n",
       "      <td>of</td>\n",
       "      <td>IN</td>\n",
       "      <td>O</td>\n",
       "      <td>O</td>\n",
       "    </tr>\n",
       "    <tr>\n",
       "      <th>2</th>\n",
       "      <td>demonstr</td>\n",
       "      <td>demonstrators</td>\n",
       "      <td>NNS</td>\n",
       "      <td>O</td>\n",
       "      <td>O</td>\n",
       "    </tr>\n",
       "    <tr>\n",
       "      <th>3</th>\n",
       "      <td>have</td>\n",
       "      <td>have</td>\n",
       "      <td>VBP</td>\n",
       "      <td>O</td>\n",
       "      <td>O</td>\n",
       "    </tr>\n",
       "    <tr>\n",
       "      <th>4</th>\n",
       "      <td>march</td>\n",
       "      <td>marched</td>\n",
       "      <td>VBN</td>\n",
       "      <td>O</td>\n",
       "      <td>O</td>\n",
       "    </tr>\n",
       "  </tbody>\n",
       "</table>\n",
       "</div>"
      ],
      "text/plain": [
       "      lemma           word  pos tag    prev-iob\n",
       "0  thousand      Thousands  NNS   O  __START1__\n",
       "1        of             of   IN   O           O\n",
       "2  demonstr  demonstrators  NNS   O           O\n",
       "3      have           have  VBP   O           O\n",
       "4     march        marched  VBN   O           O"
      ]
     },
     "execution_count": 2,
     "metadata": {},
     "output_type": "execute_result"
    }
   ],
   "source": [
    "df_ner = pd.read_csv(\"ner.csv\", encoding =\"cp1252\", error_bad_lines=False)\n",
    "df_ner.dropna(inplace=True)\n",
    "dataset = df_ner.loc[:,[\"lemma\",\"word\",\"pos\",\"tag\",\"prev-iob\"]]\n",
    "dataset.head()"
   ]
  },
  {
   "cell_type": "code",
   "execution_count": 3,
   "metadata": {},
   "outputs": [
    {
     "name": "stdout",
     "output_type": "stream",
     "text": [
      "lemma         thousand\n",
      "word         Thousands\n",
      "pos                NNS\n",
      "tag                  O\n",
      "prev-iob    __START1__\n",
      "Name: 0, dtype: object \n",
      "\n",
      " lemma         kill\n",
      "word        killed\n",
      "pos            VBN\n",
      "tag              O\n",
      "prev-iob         O\n",
      "Name: 27, dtype: object \n",
      "\n",
      " lemma         explod\n",
      "word        exploded\n",
      "pos              VBD\n",
      "tag                O\n",
      "prev-iob           O\n",
      "Name: 1050783, dtype: object\n"
     ]
    }
   ],
   "source": [
    "print(dataset.loc[0],\"\\n\\n\",dataset.loc[27],\"\\n\\n\",dataset.loc[1050783])"
   ]
  },
  {
   "cell_type": "code",
   "execution_count": 4,
   "metadata": {},
   "outputs": [],
   "source": [
    "def dataCreater():\n",
    "    dataX,dataY = [],[]\n",
    "    lemmas,labels = set(), set()\n",
    "    sentence= []\n",
    "    labels_sentence = []\n",
    "    for fila in dataset.values:\n",
    "        if fila[-1]==\"__START1__\": \n",
    "            dataX.append(np.asarray(sentence))\n",
    "            dataY.append(np.asarray(labels_sentence))\n",
    "            sentence= []\n",
    "            labels_sentence = []\n",
    "        lemmas.add(fila[0])\n",
    "        labels.add(fila[3])\n",
    "        sentence.append(fila[0])\n",
    "        labels_sentence.append(fila[3])\n",
    "    datax = np.asarray(dataX[1:])\n",
    "    datay = np.asarray(dataY[1:])\n",
    "    return datax, datay"
   ]
  },
  {
   "cell_type": "markdown",
   "metadata": {},
   "source": [
    "> Porque las palabras en la columna Lemma no están en las letras mayúsculas, ninguna palabra también esta en el plural y todos los verbos están en la forma estándar.Mirar ejemplo abajo."
   ]
  },
  {
   "cell_type": "code",
   "execution_count": 5,
   "metadata": {},
   "outputs": [
    {
     "name": "stdout",
     "output_type": "stream",
     "text": [
      "Dimensiones de dataX = 48081 \n",
      "Dimensiones de dataY = 48081\n",
      "['thousand' 'of' 'demonstr' 'have' 'march' 'through' 'london' 'to'\n",
      " 'protest' 'the' 'war' 'in' 'iraq' 'and' 'demand' 'the' 'withdraw' 'of'\n",
      " 'british' 'troop' 'from' 'that' 'countri' '.'] ['O' 'O' 'O' 'O' 'O' 'O' 'B-geo' 'O' 'O' 'O' 'O' 'O' 'B-geo' 'O' 'O' 'O'\n",
      " 'O' 'O' 'B-gpe' 'O' 'O' 'O' 'O' 'O']\n"
     ]
    }
   ],
   "source": [
    "dataX, dataY = dataCreater()\n",
    "print(\"Dimensiones de dataX =\",len(dataX),\"\\nDimensiones de dataY =\",len(dataY))\n",
    "print(dataX[0], dataY[0])"
   ]
  },
  {
   "cell_type": "markdown",
   "metadata": {},
   "source": [
    "##### Pregunta B."
   ]
  },
  {
   "cell_type": "code",
   "execution_count": 6,
   "metadata": {},
   "outputs": [],
   "source": [
    "def arrayNumber():\n",
    "    Number = []\n",
    "    for i in range(len(dataX)):\n",
    "        Number.append(len(dataX[i]))\n",
    "    return Number"
   ]
  },
  {
   "cell_type": "code",
   "execution_count": 7,
   "metadata": {},
   "outputs": [],
   "source": [
    "def wordSplit():\n",
    "    word = []\n",
    "    for i in range(len(dataX)):\n",
    "        for k in range(len(dataX[i])):\n",
    "            word.append(dataX[i][k])\n",
    "    word = list(set(word))\n",
    "    return word"
   ]
  },
  {
   "cell_type": "code",
   "execution_count": 8,
   "metadata": {},
   "outputs": [],
   "source": [
    "def wordCounter():\n",
    "    num = 0\n",
    "    for i in range(len(dataX)):\n",
    "        for k in range(len(dataX[i])):\n",
    "            num += 1\n",
    "    return num"
   ]
  },
  {
   "cell_type": "code",
   "execution_count": 9,
   "metadata": {},
   "outputs": [],
   "source": [
    "def numberWord():\n",
    "    words = newDataX\n",
    "    counts = {}\n",
    "    for word in words:\n",
    "        if word not in counts:\n",
    "            counts[word] = 0\n",
    "        counts[word] += 1\n",
    "    counts.pop(',', None)\n",
    "    counts.pop('.', None)\n",
    "    return counts"
   ]
  },
  {
   "cell_type": "code",
   "execution_count": 10,
   "metadata": {},
   "outputs": [],
   "source": [
    "def convertData():\n",
    "    newDatax = []\n",
    "    for i in range (len(dataX)):\n",
    "        for k in range(len(dataX[i])):\n",
    "            newDatax.append(dataX[i][k])     \n",
    "    newDatay = []\n",
    "    for i in range (len(dataY)):\n",
    "        for k in range(len(dataY[i])):\n",
    "            newDatay.append(dataY[i][k])\n",
    "    return newDatax, newDatay"
   ]
  },
  {
   "cell_type": "code",
   "execution_count": 11,
   "metadata": {},
   "outputs": [],
   "source": [
    "def graphMakerDest():\n",
    "    numbers = [0]*len(arrayNum)\n",
    "    for i in range(len(arrayNum)):\n",
    "        numbers[arrayNum[i]] += 1\n",
    "    plt.plot(numbers,'r-', linewidth = 1.5)\n",
    "    plt.axis([min(arrayNum)-1,max(arrayNum)+1, 0, max(numbers)+50])\n",
    "    plt.ylabel('Distribución')\n",
    "    plt.xlabel('Palabras')\n",
    "    plt.title('Cuantidad de palabras en uno Array')\n",
    "    plt.show()\n",
    "    print('Numero de palabras :',wordCo,'\\nNumero de palabras que no sin repticion :',len(wordSp))"
   ]
  },
  {
   "cell_type": "code",
   "execution_count": 12,
   "metadata": {},
   "outputs": [
    {
     "data": {
      "image/png": "[encoded data removed]",
      "text/plain": [
       "<Figure size 432x288 with 1 Axes>"
      ]
     },
     "metadata": {
      "needs_background": "light"
     },
     "output_type": "display_data"
    },
    {
     "name": "stdout",
     "output_type": "stream",
     "text": [
      "Numero de palabras : 1050786 \n",
      "Numero de palabras que no sin repticion : 20243\n"
     ]
    }
   ],
   "source": [
    "wordSp = wordSplit()\n",
    "wordCo = wordCounter()\n",
    "newDataX,newDataY = convertData()\n",
    "arrayNum = arrayNumber()\n",
    "graphMakerDest()"
   ]
  },
  {
   "cell_type": "code",
   "execution_count": 13,
   "metadata": {},
   "outputs": [],
   "source": [
    "def graphWordDes():\n",
    "    plt.plot(list(dictWord.values()),'bo', markersize=2)\n",
    "    plt.axis([0, len(wordSp), 0, max(dictWord.values())*1.07])\n",
    "    plt.ylabel('Cuantidad')\n",
    "    plt.xlabel('Palabras')\n",
    "    plt.title('Palabra que más aparecen')\n",
    "    plt.show()\n",
    "    print('Cinco palabras que más aparecen',nlargest(5, dictWord, key=dictWord.get))"
   ]
  },
  {
   "cell_type": "code",
   "execution_count": 14,
   "metadata": {},
   "outputs": [
    {
     "data": {
      "image/png": "[encoded data removed]",
      "text/plain": [
       "<Figure size 432x288 with 1 Axes>"
      ]
     },
     "metadata": {
      "needs_background": "light"
     },
     "output_type": "display_data"
    },
    {
     "name": "stdout",
     "output_type": "stream",
     "text": [
      "Cinco palabras que más aparecen ['the', 'in', 'of', 'to', 'a']\n"
     ]
    }
   ],
   "source": [
    "dictWord = numberWord()\n",
    "graphWordDes()"
   ]
  },
  {
   "cell_type": "code",
   "execution_count": 15,
   "metadata": {},
   "outputs": [],
   "source": [
    "def zipf():\n",
    "    word = list(dictWord.values())\n",
    "    total = wordCo\n",
    "    frec = []\n",
    "    for i in range(len(word)):\n",
    "        temp = word[i]/total\n",
    "        frec.append(temp*100)\n",
    "    plt.plot((frec)*100,'go', markersize=2)\n",
    "    plt.axis([0, len(word), 0, max(frec)*1.04])\n",
    "    plt.ylabel('%')\n",
    "    plt.xlabel('Palabras')\n",
    "    plt.title('Frecuencia de las palabras')\n",
    "    plt.show()\n",
    "    print('Cinco mayor % :',nlargest(5, frec))"
   ]
  },
  {
   "cell_type": "code",
   "execution_count": 16,
   "metadata": {},
   "outputs": [
    {
     "data": {
      "image/png": "[encoded data removed]",
      "text/plain": [
       "<Figure size 432x288 with 1 Axes>"
      ]
     },
     "metadata": {
      "needs_background": "light"
     },
     "output_type": "display_data"
    },
    {
     "name": "stdout",
     "output_type": "stream",
     "text": [
      "Cinco mayor % : [6.115422169690118, 2.6634348002352524, 2.5144035036629724, 2.2321386086224977, 2.1790355029473174]\n"
     ]
    }
   ],
   "source": [
    "zipf()"
   ]
  },
  {
   "cell_type": "markdown",
   "metadata": {},
   "source": [
    "> No se observa una ley de Zipf porque la ley dice que la segunda palabra tiene que tener una frecuencia de 1/2 de la primera, la terceira 1/3 asin hasta la ultima, y como pudemos mirar las frequencias no tiene ese estandar."
   ]
  },
  {
   "cell_type": "code",
   "execution_count": 17,
   "metadata": {},
   "outputs": [],
   "source": [
    "def TagCounter():\n",
    "    words = newDataY\n",
    "    counts = {}\n",
    "    for word in words:\n",
    "        if word not in counts:\n",
    "            counts[word] = 0\n",
    "        counts[word] += 1\n",
    "    return counts"
   ]
  },
  {
   "cell_type": "code",
   "execution_count": 18,
   "metadata": {},
   "outputs": [],
   "source": [
    "def tagGraph():\n",
    "    temp = tagSp\n",
    "    plt.plot(list(temp.values()),'co', markersize=8)\n",
    "    plt.axis([0, len(temp), 0, max(temp.values())*1.07])\n",
    "    plt.ylabel('Cuantidad')\n",
    "    plt.xlabel('Tags')\n",
    "    plt.show()\n",
    "    values = list(temp.values())\n",
    "    keys = list(temp.keys())\n",
    "    for i in range(len(keys)):\n",
    "        print(keys[i], '=', values[i])"
   ]
  },
  {
   "cell_type": "code",
   "execution_count": 19,
   "metadata": {},
   "outputs": [
    {
     "data": {
      "image/png": "[encoded data removed]",
      "text/plain": [
       "<Figure size 432x288 with 1 Axes>"
      ]
     },
     "metadata": {
      "needs_background": "light"
     },
     "output_type": "display_data"
    },
    {
     "name": "stdout",
     "output_type": "stream",
     "text": [
      "B-per = 17011\n",
      "B-nat = 226\n",
      "I-gpe = 229\n",
      "I-eve = 297\n",
      "I-geo = 7409\n",
      "I-per = 17382\n",
      "I-nat = 76\n",
      "O = 889966\n",
      "B-tim = 20193\n",
      "I-org = 16537\n",
      "B-org = 20184\n",
      "I-tim = 6298\n",
      "B-gpe = 16391\n",
      "B-geo = 37525\n",
      "B-art = 434\n",
      "B-eve = 348\n",
      "I-art = 280\n"
     ]
    }
   ],
   "source": [
    "tagSp = TagCounter()\n",
    "tagGraph()"
   ]
  },
  {
   "cell_type": "markdown",
   "metadata": {},
   "source": [
    "> La distrubuicion de palabra sin Tag (O) es lka mayor porque esas palabras san las pababras conectivas como: the, of, in.\n",
    "Entonces eso es un resultado esperado.\n",
    "\n",
    "<div class=\"alert alert-block alert-success\">\n",
    "    <b>Nota: </b>\n",
    "    \n",
    "geo = Entidad Geográfica\n",
    "\n",
    "org = Organización\n",
    "\n",
    "per = persona\n",
    "\n",
    "gpe = entidad geopolítica\n",
    "\n",
    "tim = indicador de tiempo\n",
    "\n",
    "arte = artefacto\n",
    "\n",
    "eve = Evento\n",
    "\n",
    "nat = Fenómeno Natural\n",
    "\n",
    "O = Nada\n",
    "</div>"
   ]
  },
  {
   "cell_type": "markdown",
   "metadata": {},
   "source": [
    "##### Pregunta C."
   ]
  },
  {
   "cell_type": "code",
   "execution_count": 20,
   "metadata": {},
   "outputs": [
    {
     "name": "stdout",
     "output_type": "stream",
     "text": [
      "17 20243\n"
     ]
    }
   ],
   "source": [
    "lemma2idx = {w: i for i, w in enumerate(wordSp)}\n",
    "lab2idx = {t: i for i, t in enumerate(tagSp)}\n",
    "numberDataX = [[lemma2idx[lemma] for lemma in sentence ] for sentence in dataX]\n",
    "numberDataY = [[lab2idx[ner] for ner in ner_tags ] for ner_tags in dataY]\n",
    "n_lemmas = len(wordSp)\n",
    "n_labels = len(tagSp)\n",
    "print(n_labels,n_lemmas)"
   ]
  },
  {
   "cell_type": "markdown",
   "metadata": {},
   "source": [
    "> Los valores estan corectos porque es la misma cuantidad de palabra y de tags en lo dataset original."
   ]
  },
  {
   "cell_type": "markdown",
   "metadata": {},
   "source": [
    "##### Pregunta D"
   ]
  },
  {
   "cell_type": "code",
   "execution_count": 21,
   "metadata": {},
   "outputs": [],
   "source": [
    "max_input_lenght = max(arrayNum)\n",
    "Xpost = sequence.pad_sequences(numberDataX, maxlen=max_input_lenght, padding='post',value=0)\n",
    "Ypost = sequence.pad_sequences(numberDataY ,maxlen=max_input_lenght, padding='post',value=0)\n",
    "Xpre = sequence.pad_sequences(numberDataX, maxlen=max_input_lenght, padding='pre',value=0)\n",
    "Ypre = sequence.pad_sequences(numberDataY ,maxlen=max_input_lenght, padding='pre',value=0)"
   ]
  },
  {
   "cell_type": "code",
   "execution_count": 22,
   "metadata": {},
   "outputs": [
    {
     "name": "stdout",
     "output_type": "stream",
     "text": [
      "Los datos de X post\n",
      " [ 6478 14182  9894  3112 18854 17570  8756 17733 17423 14538  6237 16824\n",
      "  2217    85 16784 14538   723 14182  4005 14108 14287   422 12650 12040\n",
      "     0     0     0     0     0     0     0     0     0     0     0     0\n",
      "     0     0     0     0     0     0     0     0     0     0     0     0\n",
      "     0     0     0     0     0     0     0     0     0     0     0     0\n",
      "     0     0     0     0     0     0     0     0     0     0     0     0\n",
      "     0     0     0     0     0     0     0     0     0] \n",
      "\n",
      "\n",
      "Los datos de Y post\n",
      " [ 7  7  7  7  7  7 13  7  7  7  7  7 13  7  7  7  7  7 12  7  7  7  7  7\n",
      "  0  0  0  0  0  0  0  0  0  0  0  0  0  0  0  0  0  0  0  0  0  0  0  0\n",
      "  0  0  0  0  0  0  0  0  0  0  0  0  0  0  0  0  0  0  0  0  0  0  0  0\n",
      "  0  0  0  0  0  0  0  0  0] \n",
      "\n",
      "\n",
      "Los datos de X pr\n",
      " [    0     0     0     0     0     0     0     0     0     0     0     0\n",
      "     0     0     0     0     0     0     0     0     0     0     0     0\n",
      "     0     0     0     0     0     0     0     0     0     0     0     0\n",
      "     0     0     0     0     0     0     0     0     0     0     0     0\n",
      "     0     0     0     0     0     0     0     0     0  6478 14182  9894\n",
      "  3112 18854 17570  8756 17733 17423 14538  6237 16824  2217    85 16784\n",
      " 14538   723 14182  4005 14108 14287   422 12650 12040] \n",
      "\n",
      "\n",
      "Los datos de Y pre\n",
      " [ 0  0  0  0  0  0  0  0  0  0  0  0  0  0  0  0  0  0  0  0  0  0  0  0\n",
      "  0  0  0  0  0  0  0  0  0  0  0  0  0  0  0  0  0  0  0  0  0  0  0  0\n",
      "  0  0  0  0  0  0  0  0  0  7  7  7  7  7  7 13  7  7  7  7  7 13  7  7\n",
      "  7  7  7 12  7  7  7  7  7]\n"
     ]
    }
   ],
   "source": [
    "print('Los datos de X post\\n',Xpost[0],'\\n\\n\\nLos datos de Y post\\n',Ypost[0],'\\n\\n\\nLos datos de X pre\\n',Xpre[0],'\\n\\n\\nLos datos de Y pre\\n',Ypre[0])"
   ]
  },
  {
   "cell_type": "markdown",
   "metadata": {},
   "source": [
    "> Al pricinpio dela sentencia porque asin se la red no tendrá ningum problema con su aprendizaje\n",
    "\n",
    "##### Pregunta E"
   ]
  },
  {
   "cell_type": "code",
   "execution_count": 23,
   "metadata": {},
   "outputs": [],
   "source": [
    "y = np.asarray([to_categorical(i, num_classes=n_labels) for i in Ypost])\n",
    "X_train, X_test, y_train, y_test = train_test_split(Xpost, Ypost, test_size=0.3,random_state=22)\n",
    "y_train= keras.utils.to_categorical(y_train,num_classes=17)\n",
    "y_test = keras.utils.to_categorical(y_test,num_classes=17)"
   ]
  },
  {
   "cell_type": "code",
   "execution_count": 24,
   "metadata": {},
   "outputs": [
    {
     "name": "stdout",
     "output_type": "stream",
     "text": [
      "33656 14425 33656 14425\n"
     ]
    }
   ],
   "source": [
    "print(len(X_train),len(X_test),len(y_train),len(y_test))"
   ]
  },
  {
   "cell_type": "markdown",
   "metadata": {},
   "source": [
    "> Los vectores de entrada (X_train y y_train) tienen una dimension de 33656 que es 70% del datos de input (Xpost y Ypost) y los datos X_test y y_test tienen lo tamaño que queda del datos\n",
    "\n",
    "##### Pregunta F"
   ]
  },
  {
   "cell_type": "code",
   "execution_count": 25,
   "metadata": {},
   "outputs": [],
   "source": [
    "def model(x):\n",
    "    embedding_vector = x\n",
    "    model = Sequential()\n",
    "    model.add(Embedding(input_dim=n_lemmas, output_dim=embedding_vector, input_length=max_input_lenght))\n",
    "    model.add(LSTM(units=100,return_sequences=True))\n",
    "    model.add(Dense(n_labels, activation='softmax'))\n",
    "    model.summary()\n",
    "    model.compile(loss='categorical_crossentropy', optimizer='adam')\n",
    "    model.fit(X_train, y_train, validation_data=(X_test, y_test), epochs=3, batch_size=128)\n",
    "    a = model.predict_classes(X_test,verbose=0)\n",
    "    return a"
   ]
  },
  {
   "cell_type": "code",
   "execution_count": 26,
   "metadata": {},
   "outputs": [
    {
     "name": "stdout",
     "output_type": "stream",
     "text": [
      "_________________________________________________________________\n",
      "Layer (type)                 Output Shape              Param #   \n",
      "=================================================================\n",
      "embedding_1 (Embedding)      (None, 81, 32)            647776    \n",
      "_________________________________________________________________\n",
      "lstm_1 (LSTM)                (None, 81, 100)           53200     \n",
      "_________________________________________________________________\n",
      "dense_1 (Dense)              (None, 81, 17)            1717      \n",
      "=================================================================\n",
      "Total params: 702,693\n",
      "Trainable params: 702,693\n",
      "Non-trainable params: 0\n",
      "_________________________________________________________________\n",
      "Train on 33656 samples, validate on 14425 samples\n",
      "Epoch 1/3\n",
      "33656/33656 [==============================] - 49s 1ms/step - loss: 0.4999 - val_loss: 0.2155\n",
      "Epoch 2/3\n",
      "33656/33656 [==============================] - 47s 1ms/step - loss: 0.1615 - val_loss: 0.1167\n",
      "Epoch 3/3\n",
      "33656/33656 [==============================] - 47s 1ms/step - loss: 0.0967 - val_loss: 0.0831\n"
     ]
    }
   ],
   "source": [
    "modelF = model(32)"
   ]
  },
  {
   "cell_type": "code",
   "execution_count": 27,
   "metadata": {},
   "outputs": [],
   "source": [
    "def convertY():\n",
    "    new_y_test = []\n",
    "    for i in range(len(y_test)):\n",
    "        for k in range(len(y_test[i])):\n",
    "            for j in range(len(y_test[i][k])):\n",
    "                if y_test[i][k][j] > 0:\n",
    "                    new_y_test.append(j)\n",
    "    return new_y_test"
   ]
  },
  {
   "cell_type": "code",
   "execution_count": 28,
   "metadata": {},
   "outputs": [],
   "source": [
    "new_y_test = convertY()"
   ]
  },
  {
   "cell_type": "code",
   "execution_count": 29,
   "metadata": {},
   "outputs": [],
   "source": [
    "def predict(x):\n",
    "    model = [item for sublist in x for item in sublist]\n",
    "    print(classification_metrics.type_of_target(new_y_test))\n",
    "    print(classification_metrics.type_of_target(model))\n",
    "    print(len(model),len(new_y_test))\n",
    "    print(\"F1 score on test: \", f1_score(new_y_test, model,average='macro'))"
   ]
  },
  {
   "cell_type": "code",
   "execution_count": 30,
   "metadata": {},
   "outputs": [
    {
     "name": "stdout",
     "output_type": "stream",
     "text": [
      "multiclass\n",
      "multiclass\n",
      "1168425 1168425\n",
      "F1 score on test:  0.31243541930394997\n"
     ]
    },
    {
     "name": "stderr",
     "output_type": "stream",
     "text": [
      "C:\\Users\\Christian\\Anaconda3\\envs\\tensorflow-gpu\\lib\\site-packages\\sklearn\\metrics\\classification.py:1143: UndefinedMetricWarning: F-score is ill-defined and being set to 0.0 in labels with no predicted samples.\n",
      "  'precision', 'predicted', average, warn_for)\n"
     ]
    }
   ],
   "source": [
    "predict(modelF)"
   ]
  },
  {
   "cell_type": "markdown",
   "metadata": {},
   "source": [
    "> Cuando los datos entran en la red pasan por tres 'Gates', Keep Gate, Read Gate y Write Gate.\n",
    "Write Gate es responsable de escribir los datos en la memoria.\n",
    "Read Gate lee los datos de la memoria y envía los datos de nuevo a la red recurrente\n",
    "Keep Gate es reponible por mantener o borrar datos de la memoria\n",
    "\n",
    "<img src=\"LSTM.png\" title=\"Title text\" width=\"80%\" height=\"50%\" />"
   ]
  },
  {
   "cell_type": "markdown",
   "metadata": {},
   "source": [
    "##### Pregunta G"
   ]
  },
  {
   "cell_type": "code",
   "execution_count": 31,
   "metadata": {},
   "outputs": [
    {
     "name": "stdout",
     "output_type": "stream",
     "text": [
      "_________________________________________________________________\n",
      "Layer (type)                 Output Shape              Param #   \n",
      "=================================================================\n",
      "embedding_2 (Embedding)      (None, 81, 16)            323888    \n",
      "_________________________________________________________________\n",
      "lstm_2 (LSTM)                (None, 81, 100)           46800     \n",
      "_________________________________________________________________\n",
      "dense_2 (Dense)              (None, 81, 17)            1717      \n",
      "=================================================================\n",
      "Total params: 372,405\n",
      "Trainable params: 372,405\n",
      "Non-trainable params: 0\n",
      "_________________________________________________________________\n",
      "Train on 33656 samples, validate on 14425 samples\n",
      "Epoch 1/3\n",
      "33656/33656 [==============================] - 48s 1ms/step - loss: 0.5096 - val_loss: 0.2286\n",
      "Epoch 2/3\n",
      "33656/33656 [==============================] - 46s 1ms/step - loss: 0.1873 - val_loss: 0.1400\n",
      "Epoch 3/3\n",
      "33656/33656 [==============================] - 46s 1ms/step - loss: 0.1140 - val_loss: 0.0978\n",
      "_________________________________________________________________\n",
      "Layer (type)                 Output Shape              Param #   \n",
      "=================================================================\n",
      "embedding_3 (Embedding)      (None, 81, 64)            1295552   \n",
      "_________________________________________________________________\n",
      "lstm_3 (LSTM)                (None, 81, 100)           66000     \n",
      "_________________________________________________________________\n",
      "dense_3 (Dense)              (None, 81, 17)            1717      \n",
      "=================================================================\n",
      "Total params: 1,363,269\n",
      "Trainable params: 1,363,269\n",
      "Non-trainable params: 0\n",
      "_________________________________________________________________\n",
      "Train on 33656 samples, validate on 14425 samples\n",
      "Epoch 1/3\n",
      "33656/33656 [==============================] - 48s 1ms/step - loss: 0.4528 - val_loss: 0.1902\n",
      "Epoch 2/3\n",
      "33656/33656 [==============================] - 47s 1ms/step - loss: 0.1332 - val_loss: 0.1013\n",
      "Epoch 3/3\n",
      "33656/33656 [==============================] - 47s 1ms/step - loss: 0.0827 - val_loss: 0.0693\n",
      "_________________________________________________________________\n",
      "Layer (type)                 Output Shape              Param #   \n",
      "=================================================================\n",
      "embedding_4 (Embedding)      (None, 81, 128)           2591104   \n",
      "_________________________________________________________________\n",
      "lstm_4 (LSTM)                (None, 81, 100)           91600     \n",
      "_________________________________________________________________\n",
      "dense_4 (Dense)              (None, 81, 17)            1717      \n",
      "=================================================================\n",
      "Total params: 2,684,421\n",
      "Trainable params: 2,684,421\n",
      "Non-trainable params: 0\n",
      "_________________________________________________________________\n",
      "Train on 33656 samples, validate on 14425 samples\n",
      "Epoch 1/3\n",
      "33656/33656 [==============================] - 49s 1ms/step - loss: 0.4144 - val_loss: 0.1427\n",
      "Epoch 2/3\n",
      "33656/33656 [==============================] - 47s 1ms/step - loss: 0.1037 - val_loss: 0.0799\n",
      "Epoch 3/3\n",
      "33656/33656 [==============================] - 47s 1ms/step - loss: 0.0621 - val_loss: 0.0557\n",
      "_________________________________________________________________\n",
      "Layer (type)                 Output Shape              Param #   \n",
      "=================================================================\n",
      "embedding_5 (Embedding)      (None, 81, 256)           5182208   \n",
      "_________________________________________________________________\n",
      "lstm_5 (LSTM)                (None, 81, 100)           142800    \n",
      "_________________________________________________________________\n",
      "dense_5 (Dense)              (None, 81, 17)            1717      \n",
      "=================================================================\n",
      "Total params: 5,326,725\n",
      "Trainable params: 5,326,725\n",
      "Non-trainable params: 0\n",
      "_________________________________________________________________\n",
      "Train on 33656 samples, validate on 14425 samples\n",
      "Epoch 1/3\n",
      "33656/33656 [==============================] - 51s 2ms/step - loss: 0.3448 - val_loss: 0.1161\n",
      "Epoch 2/3\n",
      "33656/33656 [==============================] - 49s 1ms/step - loss: 0.0859 - val_loss: 0.0643\n",
      "Epoch 3/3\n",
      "33656/33656 [==============================] - 49s 1ms/step - loss: 0.0509 - val_loss: 0.0485\n"
     ]
    }
   ],
   "source": [
    "modelG_16 = model(16)\n",
    "modelG_64 = model(64)\n",
    "modelG_128 = model(128)\n",
    "modelG_256 = model(256)"
   ]
  },
  {
   "cell_type": "code",
   "execution_count": 32,
   "metadata": {},
   "outputs": [
    {
     "name": "stdout",
     "output_type": "stream",
     "text": [
      "multiclass\n",
      "multiclass\n",
      "1168425 1168425\n"
     ]
    },
    {
     "name": "stderr",
     "output_type": "stream",
     "text": [
      "C:\\Users\\Christian\\Anaconda3\\envs\\tensorflow-gpu\\lib\\site-packages\\sklearn\\metrics\\classification.py:1143: UndefinedMetricWarning: F-score is ill-defined and being set to 0.0 in labels with no predicted samples.\n",
      "  'precision', 'predicted', average, warn_for)\n"
     ]
    },
    {
     "name": "stdout",
     "output_type": "stream",
     "text": [
      "F1 score on test:  0.22519733520548413\n",
      "multiclass\n",
      "multiclass\n",
      "1168425 1168425\n",
      "F1 score on test:  0.40584275010311244\n",
      "multiclass\n",
      "multiclass\n",
      "1168425 1168425\n",
      "F1 score on test:  0.4526006968179854\n",
      "multiclass\n",
      "multiclass\n",
      "1168425 1168425\n",
      "F1 score on test:  0.46699748869717195\n"
     ]
    }
   ],
   "source": [
    "predict(modelG_16)\n",
    "predict(modelG_64)\n",
    "predict(modelG_128)\n",
    "predict(modelG_256)"
   ]
  },
  {
   "cell_type": "markdown",
   "metadata": {},
   "source": [
    "> Al aumentar el valor de embedding el error aumentó pero al usar un embedding menor el error cayó considerablemente. No fue algo esperado porque en la tarea 2 ejercicio 3 al almentar el embedding el resultado mejoraba, pero creo que como la cantidad de datos disponibles para entrenar en este ejercicio y el MSE es mucho menor la probable causa del hecho de menores embedding ser mejores es el Overfitting"
   ]
  },
  {
   "cell_type": "markdown",
   "metadata": {},
   "source": [
    "##### Pregunta H"
   ]
  },
  {
   "cell_type": "code",
   "execution_count": 33,
   "metadata": {},
   "outputs": [],
   "source": [
    "def modelDrop(x):\n",
    "    embedding_vector = x\n",
    "    model = Sequential()\n",
    "    model.add(Embedding(input_dim=n_lemmas, output_dim=embedding_vector, input_length=max_input_lenght))  \n",
    "    model.add(LSTM(units=100,return_sequences=True))\n",
    "    model.add(Dropout(0.2))\n",
    "    model.add(Dense(n_labels, activation='softmax'))\n",
    "    model.compile(loss='categorical_crossentropy', optimizer='adam')\n",
    "    model.fit(X_train, y_train, validation_data=(X_test, y_test), epochs=3, batch_size=128)\n",
    "    a = model.predict_classes(X_test,verbose=0)\n",
    "    return a"
   ]
  },
  {
   "cell_type": "code",
   "execution_count": 34,
   "metadata": {},
   "outputs": [
    {
     "name": "stdout",
     "output_type": "stream",
     "text": [
      "Train on 33656 samples, validate on 14425 samples\n",
      "Epoch 1/3\n",
      "33656/33656 [==============================] - 49s 1ms/step - loss: 0.5342 - val_loss: 0.2328\n",
      "Epoch 2/3\n",
      "33656/33656 [==============================] - 47s 1ms/step - loss: 0.1980 - val_loss: 0.1503\n",
      "Epoch 3/3\n",
      "33656/33656 [==============================] - 47s 1ms/step - loss: 0.1241 - val_loss: 0.1034\n"
     ]
    }
   ],
   "source": [
    "modelDrop = modelDrop(16)"
   ]
  },
  {
   "cell_type": "code",
   "execution_count": 35,
   "metadata": {},
   "outputs": [
    {
     "name": "stdout",
     "output_type": "stream",
     "text": [
      "multiclass\n",
      "multiclass\n",
      "1168425 1168425\n",
      "F1 score on test:  0.2178524239169408\n"
     ]
    },
    {
     "name": "stderr",
     "output_type": "stream",
     "text": [
      "C:\\Users\\Christian\\Anaconda3\\envs\\tensorflow-gpu\\lib\\site-packages\\sklearn\\metrics\\classification.py:1143: UndefinedMetricWarning: F-score is ill-defined and being set to 0.0 in labels with no predicted samples.\n",
      "  'precision', 'predicted', average, warn_for)\n"
     ]
    }
   ],
   "source": [
    "predict(modelDrop)"
   ]
  },
  {
   "cell_type": "markdown",
   "metadata": {},
   "source": [
    "> El Dropout mejora mucho el funcionamiento de la red, porque como dicho en el ejercicio anterio probablemente esta teniendo Overfitting"
   ]
  },
  {
   "cell_type": "markdown",
   "metadata": {},
   "source": [
    "##### Pregunta I"
   ]
  },
  {
   "cell_type": "code",
   "execution_count": 36,
   "metadata": {},
   "outputs": [],
   "source": [
    "def modelI(x,y):\n",
    "    y = str(y)\n",
    "    merge = {'1':'sum','2':'mul','3':'ave','4':'concat'}\n",
    "    label = y\n",
    "    embedding_vector = x\n",
    "    model = Sequential()\n",
    "    model.add(Embedding(input_dim=n_lemmas, output_dim=embedding_vector, input_length=max_input_lenght))\n",
    "    layer_lstm = LSTM(units=100,return_sequences=True)\n",
    "    model.add(Bidirectional(layer_lstm,merge_mode=merge[y]))\n",
    "    model.add(Dense(n_labels, activation='softmax'))\n",
    "    model.summary()\n",
    "    model.compile(loss='categorical_crossentropy', optimizer='adam')\n",
    "    model.fit(X_train, y_train, validation_data=(X_test, y_test), epochs=3, batch_size=128)\n",
    "    a = model.predict_classes(X_test,verbose=0)\n",
    "    return a"
   ]
  },
  {
   "cell_type": "code",
   "execution_count": 37,
   "metadata": {},
   "outputs": [
    {
     "name": "stdout",
     "output_type": "stream",
     "text": [
      "_________________________________________________________________\n",
      "Layer (type)                 Output Shape              Param #   \n",
      "=================================================================\n",
      "embedding_7 (Embedding)      (None, 81, 16)            323888    \n",
      "_________________________________________________________________\n",
      "bidirectional_1 (Bidirection (None, 81, 100)           93600     \n",
      "_________________________________________________________________\n",
      "dense_7 (Dense)              (None, 81, 17)            1717      \n",
      "=================================================================\n",
      "Total params: 419,205\n",
      "Trainable params: 419,205\n",
      "Non-trainable params: 0\n",
      "_________________________________________________________________\n",
      "Train on 33656 samples, validate on 14425 samples\n",
      "Epoch 1/3\n",
      "33656/33656 [==============================] - 75s 2ms/step - loss: 0.3969 - val_loss: 0.2083\n",
      "Epoch 2/3\n",
      "33656/33656 [==============================] - 73s 2ms/step - loss: 0.1661 - val_loss: 0.1182\n",
      "Epoch 3/3\n",
      "33656/33656 [==============================] - 74s 2ms/step - loss: 0.0976 - val_loss: 0.0823\n",
      "_________________________________________________________________\n",
      "Layer (type)                 Output Shape              Param #   \n",
      "=================================================================\n",
      "embedding_8 (Embedding)      (None, 81, 16)            323888    \n",
      "_________________________________________________________________\n",
      "bidirectional_2 (Bidirection (None, 81, 100)           93600     \n",
      "_________________________________________________________________\n",
      "dense_8 (Dense)              (None, 81, 17)            1717      \n",
      "=================================================================\n",
      "Total params: 419,205\n",
      "Trainable params: 419,205\n",
      "Non-trainable params: 0\n",
      "_________________________________________________________________\n",
      "Train on 33656 samples, validate on 14425 samples\n",
      "Epoch 1/3\n",
      "33656/33656 [==============================] - 74s 2ms/step - loss: 0.6079 - val_loss: 0.2376\n",
      "Epoch 2/3\n",
      "33656/33656 [==============================] - 72s 2ms/step - loss: 0.1879 - val_loss: 0.1321\n",
      "Epoch 3/3\n",
      "33656/33656 [==============================] - 72s 2ms/step - loss: 0.1034 - val_loss: 0.0871\n",
      "_________________________________________________________________\n",
      "Layer (type)                 Output Shape              Param #   \n",
      "=================================================================\n",
      "embedding_9 (Embedding)      (None, 81, 16)            323888    \n",
      "_________________________________________________________________\n",
      "bidirectional_3 (Bidirection (None, 81, 100)           93600     \n",
      "_________________________________________________________________\n",
      "dense_9 (Dense)              (None, 81, 17)            1717      \n",
      "=================================================================\n",
      "Total params: 419,205\n",
      "Trainable params: 419,205\n",
      "Non-trainable params: 0\n",
      "_________________________________________________________________\n",
      "Train on 33656 samples, validate on 14425 samples\n",
      "Epoch 1/3\n",
      "33656/33656 [==============================] - 74s 2ms/step - loss: 0.4565 - val_loss: 0.2154\n",
      "Epoch 2/3\n",
      "33656/33656 [==============================] - 72s 2ms/step - loss: 0.2027 - val_loss: 0.1818\n",
      "Epoch 3/3\n",
      "33656/33656 [==============================] - 71s 2ms/step - loss: 0.1401 - val_loss: 0.1082\n",
      "_________________________________________________________________\n",
      "Layer (type)                 Output Shape              Param #   \n",
      "=================================================================\n",
      "embedding_10 (Embedding)     (None, 81, 16)            323888    \n",
      "_________________________________________________________________\n",
      "bidirectional_4 (Bidirection (None, 81, 200)           93600     \n",
      "_________________________________________________________________\n",
      "dense_10 (Dense)             (None, 81, 17)            3417      \n",
      "=================================================================\n",
      "Total params: 420,905\n",
      "Trainable params: 420,905\n",
      "Non-trainable params: 0\n",
      "_________________________________________________________________\n",
      "Train on 33656 samples, validate on 14425 samples\n",
      "Epoch 1/3\n",
      "33656/33656 [==============================] - 74s 2ms/step - loss: 0.4151 - val_loss: 0.2091\n",
      "Epoch 2/3\n",
      "33656/33656 [==============================] - 72s 2ms/step - loss: 0.1916 - val_loss: 0.1528\n",
      "Epoch 3/3\n",
      "33656/33656 [==============================] - 72s 2ms/step - loss: 0.1099 - val_loss: 0.0876\n"
     ]
    }
   ],
   "source": [
    "modelI_1 = modelI(16,1)\n",
    "modelI_2 = modelI(16,2)\n",
    "modelI_3 = modelI(16,3)\n",
    "modelI_4 = modelI(16,4)"
   ]
  },
  {
   "cell_type": "code",
   "execution_count": 38,
   "metadata": {},
   "outputs": [
    {
     "name": "stdout",
     "output_type": "stream",
     "text": [
      "multiclass\n",
      "multiclass\n",
      "1168425 1168425\n"
     ]
    },
    {
     "name": "stderr",
     "output_type": "stream",
     "text": [
      "C:\\Users\\Christian\\Anaconda3\\envs\\tensorflow-gpu\\lib\\site-packages\\sklearn\\metrics\\classification.py:1143: UndefinedMetricWarning: F-score is ill-defined and being set to 0.0 in labels with no predicted samples.\n",
      "  'precision', 'predicted', average, warn_for)\n"
     ]
    },
    {
     "name": "stdout",
     "output_type": "stream",
     "text": [
      "F1 score on test:  0.2927976183001243\n",
      "multiclass\n",
      "multiclass\n",
      "1168425 1168425\n",
      "F1 score on test:  0.29112603426860095\n",
      "multiclass\n",
      "multiclass\n",
      "1168425 1168425\n",
      "F1 score on test:  0.1733218306526744\n",
      "multiclass\n",
      "multiclass\n",
      "1168425 1168425\n",
      "F1 score on test:  0.26737292170133875\n"
     ]
    }
   ],
   "source": [
    "predict(modelI_1)\n",
    "predict(modelI_2)\n",
    "predict(modelI_3)\n",
    "predict(modelI_4)"
   ]
  },
  {
   "cell_type": "markdown",
   "metadata": {},
   "source": [
    "> El merge_mode de media presentó resultados mucho mejores que los otros probados y también mejora el desempeña de la red considerablemente"
   ]
  },
  {
   "cell_type": "markdown",
   "metadata": {},
   "source": [
    "##### Pregunta J"
   ]
  },
  {
   "cell_type": "code",
   "execution_count": 39,
   "metadata": {},
   "outputs": [],
   "source": [
    "def modelJ(x):\n",
    "    embedding_vector = x\n",
    "    lemma2idx[\"yourspecialcharacter\"] = 0 \n",
    "    embedding_vector = 32\n",
    "    model = Sequential()\n",
    "    model.add(Embedding(input_dim=n_lemmas, output_dim=embedding_vector, input_length=max_input_lenght,mask_zero=True))\n",
    "    model.add(Dense(n_labels, activation='softmax'))\n",
    "    model.summary()\n",
    "    model.compile(loss='categorical_crossentropy', optimizer='adam')\n",
    "    model.fit(X_train, y_train, validation_data=(X_test, y_test), epochs=3, batch_size=128)\n",
    "    a = model.predict_classes(X_test,verbose=0)\n",
    "    return a"
   ]
  },
  {
   "cell_type": "code",
   "execution_count": 40,
   "metadata": {},
   "outputs": [
    {
     "name": "stdout",
     "output_type": "stream",
     "text": [
      "_________________________________________________________________\n",
      "Layer (type)                 Output Shape              Param #   \n",
      "=================================================================\n",
      "embedding_11 (Embedding)     (None, 81, 32)            647776    \n",
      "_________________________________________________________________\n",
      "dense_11 (Dense)             (None, 81, 17)            561       \n",
      "=================================================================\n",
      "Total params: 648,337\n",
      "Trainable params: 648,337\n",
      "Non-trainable params: 0\n",
      "_________________________________________________________________\n",
      "Train on 33656 samples, validate on 14425 samples\n",
      "Epoch 1/3\n",
      "33656/33656 [==============================] - 3s 90us/step - loss: 1.5404 - val_loss: 0.5887\n",
      "Epoch 2/3\n",
      "33656/33656 [==============================] - 1s 43us/step - loss: 0.4416 - val_loss: 0.3583\n",
      "Epoch 3/3\n",
      "33656/33656 [==============================] - 1s 43us/step - loss: 0.3074 - val_loss: 0.2892\n"
     ]
    }
   ],
   "source": [
    "modelJ = modelJ(16)"
   ]
  },
  {
   "cell_type": "code",
   "execution_count": 41,
   "metadata": {},
   "outputs": [
    {
     "name": "stdout",
     "output_type": "stream",
     "text": [
      "multiclass\n",
      "multiclass\n",
      "1168425 1168425\n",
      "F1 score on test:  0.33226310254598124\n"
     ]
    },
    {
     "name": "stderr",
     "output_type": "stream",
     "text": [
      "C:\\Users\\Christian\\Anaconda3\\envs\\tensorflow-gpu\\lib\\site-packages\\sklearn\\metrics\\classification.py:1143: UndefinedMetricWarning: F-score is ill-defined and being set to 0.0 in labels with no predicted samples.\n",
      "  'precision', 'predicted', average, warn_for)\n"
     ]
    }
   ],
   "source": [
    "predict(modelJ)"
   ]
  },
  {
   "cell_type": "markdown",
   "metadata": {},
   "source": [
    "> El entrenamiento ocurrió con un error mayor al comienzo, y el tiempo de entrenamiento tuvo una variación considerable, pero el error aumentó considerablemente"
   ]
  },
  {
   "cell_type": "markdown",
   "metadata": {},
   "source": [
    "##### Pregunta K"
   ]
  },
  {
   "cell_type": "code",
   "execution_count": 42,
   "metadata": {},
   "outputs": [],
   "source": [
    "def modelK(x,y,w):\n",
    "    embedding_vector = x \n",
    "    y = str(y)\n",
    "    merge = {'1':'sum','2':'mul','3':'ave','4':'concat'}\n",
    "    model = Sequential()\n",
    "    model.add(Embedding(input_dim=n_lemmas, output_dim=embedding_vector, input_length=max_input_lenght))\n",
    "    layer_lstm = LSTM(units=100,return_sequences=True)\n",
    "    model.add(Bidirectional(layer_lstm,merge_mode=merge[y]))\n",
    "    model.add(Dropout(w))\n",
    "    model.add(Dense(n_labels, activation='softmax'))\n",
    "    model.summary()\n",
    "    model.compile(loss='categorical_crossentropy', optimizer='adam')\n",
    "    model.fit(X_train, y_train, validation_data=(X_test, y_test), epochs=3, batch_size=128)\n",
    "    a = model.predict_classes(X_test,verbose=0)\n",
    "    return a"
   ]
  },
  {
   "cell_type": "code",
   "execution_count": 43,
   "metadata": {},
   "outputs": [
    {
     "name": "stdout",
     "output_type": "stream",
     "text": [
      "_________________________________________________________________\n",
      "Layer (type)                 Output Shape              Param #   \n",
      "=================================================================\n",
      "embedding_12 (Embedding)     (None, 81, 16)            323888    \n",
      "_________________________________________________________________\n",
      "bidirectional_5 (Bidirection (None, 81, 100)           93600     \n",
      "_________________________________________________________________\n",
      "dropout_2 (Dropout)          (None, 81, 100)           0         \n",
      "_________________________________________________________________\n",
      "dense_12 (Dense)             (None, 81, 17)            1717      \n",
      "=================================================================\n",
      "Total params: 419,205\n",
      "Trainable params: 419,205\n",
      "Non-trainable params: 0\n",
      "_________________________________________________________________\n",
      "Train on 33656 samples, validate on 14425 samples\n",
      "Epoch 1/3\n",
      "33656/33656 [==============================] - 75s 2ms/step - loss: 0.4413 - val_loss: 0.2178\n",
      "Epoch 2/3\n",
      "33656/33656 [==============================] - 72s 2ms/step - loss: 0.2128 - val_loss: 0.2004\n",
      "Epoch 3/3\n",
      "33656/33656 [==============================] - 72s 2ms/step - loss: 0.1787 - val_loss: 0.1327\n"
     ]
    }
   ],
   "source": [
    "modelK_1 = modelK(16,3,0.2)"
   ]
  },
  {
   "cell_type": "code",
   "execution_count": 44,
   "metadata": {},
   "outputs": [
    {
     "name": "stdout",
     "output_type": "stream",
     "text": [
      "multiclass\n",
      "multiclass\n",
      "1168425 1168425\n",
      "F1 score on test:  0.1306361169220866\n"
     ]
    },
    {
     "name": "stderr",
     "output_type": "stream",
     "text": [
      "C:\\Users\\Christian\\Anaconda3\\envs\\tensorflow-gpu\\lib\\site-packages\\sklearn\\metrics\\classification.py:1143: UndefinedMetricWarning: F-score is ill-defined and being set to 0.0 in labels with no predicted samples.\n",
      "  'precision', 'predicted', average, warn_for)\n"
     ]
    }
   ],
   "source": [
    "predict(modelK_1)"
   ]
  },
  {
   "cell_type": "markdown",
   "metadata": {},
   "source": [
    "##### Pregunta L"
   ]
  },
  {
   "cell_type": "code",
   "execution_count": 45,
   "metadata": {},
   "outputs": [],
   "source": [
    "def modelJ(x,y,w):\n",
    "    embedding_vector = x \n",
    "    y = str(y)\n",
    "    merge = {'1':'sum','2':'mul','3':'ave','4':'concat'}\n",
    "    model = Sequential()\n",
    "    model.add(Embedding(input_dim=n_lemmas, output_dim=embedding_vector, input_length=max_input_lenght))\n",
    "    layer_lstm = LSTM(units=100,return_sequences=True)\n",
    "    model.add(Bidirectional(layer_lstm,merge_mode=merge[y]))\n",
    "    model.add(Dropout(w))\n",
    "    model.add(Dense(n_labels, activation='softmax'))\n",
    "    model.summary()\n",
    "    model.compile(loss='categorical_crossentropy', optimizer='adam')\n",
    "    model.fit(X_train, y_train, validation_data=(X_test, y_test), epochs=3, batch_size=128)\n",
    "    return model"
   ]
  },
  {
   "cell_type": "code",
   "execution_count": 46,
   "metadata": {},
   "outputs": [
    {
     "name": "stdout",
     "output_type": "stream",
     "text": [
      "_________________________________________________________________\n",
      "Layer (type)                 Output Shape              Param #   \n",
      "=================================================================\n",
      "embedding_13 (Embedding)     (None, 81, 16)            323888    \n",
      "_________________________________________________________________\n",
      "bidirectional_6 (Bidirection (None, 81, 100)           93600     \n",
      "_________________________________________________________________\n",
      "dropout_3 (Dropout)          (None, 81, 100)           0         \n",
      "_________________________________________________________________\n",
      "dense_13 (Dense)             (None, 81, 17)            1717      \n",
      "=================================================================\n",
      "Total params: 419,205\n",
      "Trainable params: 419,205\n",
      "Non-trainable params: 0\n",
      "_________________________________________________________________\n",
      "Train on 33656 samples, validate on 14425 samples\n",
      "Epoch 1/3\n",
      "33656/33656 [==============================] - 76s 2ms/step - loss: 0.4473 - val_loss: 0.2170\n",
      "Epoch 2/3\n",
      "33656/33656 [==============================] - 72s 2ms/step - loss: 0.2114 - val_loss: 0.1977\n",
      "Epoch 3/3\n",
      "33656/33656 [==============================] - 72s 2ms/step - loss: 0.1760 - val_loss: 0.1325\n"
     ]
    }
   ],
   "source": [
    "p = modelJ(16,3,0.2)"
   ]
  },
  {
   "cell_type": "code",
   "execution_count": 47,
   "metadata": {},
   "outputs": [],
   "source": [
    "def modelJfit(x,y):\n",
    "    model = x\n",
    "    i = y\n",
    "    p = model.predict(np.array([X_test[i]]))\n",
    "    p = np.argmax(p, axis=-1)\n",
    "    print(\"{:15}: {}\".format(\"Lemma\", \"Pred\"))\n",
    "    for w,pred in zip(X_test[i],p[0]):\n",
    "        if w != 0:\n",
    "            print(\"{:15}: {}\".format(wordSp[w],list(tagSp.keys())[pred]))"
   ]
  },
  {
   "cell_type": "code",
   "execution_count": 48,
   "metadata": {},
   "outputs": [
    {
     "name": "stdout",
     "output_type": "stream",
     "text": [
      "Lemma          : Pred\n",
      "doctor         : O\n",
      "have           : O\n",
      "previous       : O\n",
      "said           : O\n",
      "that           : O\n",
      "mr.            : B-geo\n",
      "singh          : O\n",
      ",              : O\n",
      "who            : O\n",
      "is             : O\n",
      "76             : O\n",
      ",              : O\n",
      "should         : O\n",
      "be             : O\n",
      "abl            : O\n",
      "to             : O\n",
      "resum          : O\n",
      "his            : O\n",
      "full           : O\n",
      "duti           : O\n",
      "within         : O\n",
      "four           : O\n",
      "week           : O\n",
      ".              : O\n"
     ]
    }
   ],
   "source": [
    "modelJfit(p, random.randint(0, len(X_test)))"
   ]
  },
  {
   "cell_type": "markdown",
   "metadata": {},
   "source": [
    "> En el caso de que la red no esta generando las Pred con mucha precisión pero esto puede ser explicado por el hecho de Tag 'O' tener un porcentaje mucho mayor de lo que las otras etiquetas y tal vez al encontrar otro ejemplo la red demuestre otras Tags"
   ]
  },
  {
   "cell_type": "markdown",
   "metadata": {},
   "source": [
    "##### Pregunta M"
   ]
  },
  {
   "cell_type": "code",
   "execution_count": 49,
   "metadata": {},
   "outputs": [
    {
     "name": "stdout",
     "output_type": "stream",
     "text": [
      "total chars: 72\n",
      "nb sequences: 303368\n"
     ]
    }
   ],
   "source": [
    "dataset = df_ner.loc[:,[\"word\",\"lemma\"]]\n",
    "text = ' '.join(dataset[\"word\"]).lower() \n",
    "null_character = \"*\"\n",
    "chars = [null_character]+sorted(list(set(text)))\n",
    "print('total chars:', len(chars))\n",
    "char_indices = {c: i for i, c in enumerate(chars)}\n",
    "indices_char = {i: c for i, c in enumerate(chars)}\n",
    "maxlen = 40 \n",
    "step = 5 \n",
    "sentences = []\n",
    "next_chars = []\n",
    "size = int(len(text)*0.25)\n",
    "for i in range(0, size - maxlen, step):\n",
    "    sentences.append(null_character+text[i: i + maxlen])\n",
    "    next_chars.append(text[i + maxlen])\n",
    "print('nb sequences:', len(sentences))"
   ]
  },
  {
   "cell_type": "markdown",
   "metadata": {},
   "source": [
    ">Se debe usa 'word' porque los verbos tienen tiempos verbales diferentes del presente y los tiempos verbales tiene grand peso en la seguinte palabra\n",
    "\n",
    "##### Pregunta N"
   ]
  },
  {
   "cell_type": "code",
   "execution_count": 50,
   "metadata": {},
   "outputs": [],
   "source": [
    "dataX = [[char_indices[char] for char in sentence ] for sentence in sentences]\n",
    "dataY = [char_indices[char] for char in next_chars]\n",
    "X_train_2, X_test_2, y_train_2, y_test_2 = train_test_split(dataX, dataY, test_size=0.3,random_state=22)\n",
    "X_test_2 = sequence.pad_sequences(dataX, maxlen=41, padding='pre',value=0)\n",
    "X_train_2 = sequence.pad_sequences(dataX, maxlen=41, padding='pre',value=0)\n",
    "y_test_2 = keras.utils.to_categorical(dataY,num_classes=72)\n",
    "y_train_2 = keras.utils.to_categorical(dataY,num_classes=72)"
   ]
  },
  {
   "cell_type": "code",
   "execution_count": 51,
   "metadata": {},
   "outputs": [],
   "source": [
    "def modelCuD():\n",
    "    embedding_vector = 16\n",
    "    model = Sequential()\n",
    "    model.add(Embedding(input_dim=len(chars), output_dim=embedding_vector, input_length=maxlen+1))\n",
    "    model.add(CuDNNGRU(units=512,return_sequences=False))\n",
    "    model.add(Dropout(0.2))\n",
    "    model.add(Dense(len(chars), activation='softmax'))\n",
    "    model.compile(loss='categorical_crossentropy', optimizer='adam', metrics=['accuracy'])\n",
    "    return model"
   ]
  },
  {
   "cell_type": "code",
   "execution_count": 52,
   "metadata": {},
   "outputs": [],
   "source": [
    "def modelGru():\n",
    "    embedding_vector = 16\n",
    "    model = Sequential()\n",
    "    model.add(Embedding(input_dim=len(chars), output_dim=embedding_vector, input_length=maxlen+1))\n",
    "    model.add(GRU(units=512,return_sequences=False))\n",
    "    model.add(Dropout(0.2))\n",
    "    model.add(Dense(len(chars), activation='softmax'))\n",
    "    model.compile(loss='categorical_crossentropy', optimizer='adam', metrics=['accuracy'])\n",
    "    return model "
   ]
  },
  {
   "cell_type": "markdown",
   "metadata": {},
   "source": [
    "##### Pregunta O (GRU)"
   ]
  },
  {
   "cell_type": "code",
   "execution_count": 53,
   "metadata": {},
   "outputs": [],
   "source": [
    "def predict_next_char(model, sentence):   \n",
    "    x_pred = [char_indices[null_character]]+[char_indices[char] for char in sentence]\n",
    "    x_pred = sequence.pad_sequences([x_pred], maxlen=maxlen+1,padding='pre',value=char_indices[null_character])\n",
    "    preds = model.predict(x_pred, verbose=0)[0]\n",
    "    next_index = np.random.choice(len(chars), p=preds)\n",
    "    return indices_char[next_index]"
   ]
  },
  {
   "cell_type": "code",
   "execution_count": 54,
   "metadata": {},
   "outputs": [],
   "source": [
    "def on_epoch_end(epoch, logs):\n",
    "    print('\\n----- Generating text after Epoch: %d' % epoch)\n",
    "    start_index = random.randint(0, size - maxlen - 1)\n",
    "    sentence = text[start_index: start_index + maxlen]\n",
    "    print('----- Generating with seed: \"' + sentence + '\"')\n",
    "    sys.stdout.write(sentence)\n",
    "    for i in range(400):\n",
    "        next_char = predict_next_char(modGru, sentence)\n",
    "        sentence = sentence[1:] + next_char\n",
    "        sys.stdout.write(next_char)\n",
    "        sys.stdout.flush()\n",
    "    return"
   ]
  },
  {
   "cell_type": "code",
   "execution_count": 55,
   "metadata": {},
   "outputs": [],
   "source": [
    "modGru = modelGru()"
   ]
  },
  {
   "cell_type": "code",
   "execution_count": 56,
   "metadata": {
    "scrolled": true
   },
   "outputs": [
    {
     "name": "stdout",
     "output_type": "stream",
     "text": [
      "Epoch 1/25\n",
      "303368/303368 [==============================] - 106s 349us/step - loss: 2.4867 - acc: 0.2857s \n",
      "\n",
      "----- Generating text after Epoch: 0\n",
      "----- Generating with seed: \"pportunity to do so . general dostum 's \"\n",
      "pportunity to do so . general dostum 's oun caested than semun in heacend onfaticalintal exce redes , pun and emrocedind noplavian cepanulel and wigl choed e besmine of visintistinkian-line offecisesudel temriwiek coaml brore to klins sand makled the ruthir themel wos hagwed bland in negher of beke won lalacust atrialed ty hemergcen comnamed agpants in porithan oobe , the politident . ches cold lfremen day abdiocubey . bel atoret woveinEpoch 2/25\n",
      "303368/303368 [==============================] - 104s 342us/step - loss: 1.8910 - acc: 0.4427\n",
      "\n",
      "----- Generating text after Epoch: 1\n",
      "----- Generating with seed: \"ticipate in the july elections . palesti\"\n",
      "ticipate in the july elections . palestirited ropolicit fus sorianina in a security ferped a tareb joteld the bopne , prico , the for nawing intestar e the dexord e2vonger of mings millim nom .t tuindal joudi ald with into the chpresfory suffs two , censoul mee.nta thut oreh afteb the coules mengoned on tounctarated tay firlar pericinistart . in uministar y in the pro-reactrolly the ciaring to dombanded lele , gargal not fos abaup also Epoch 3/25\n",
      "303368/303368 [==============================] - 104s 342us/step - loss: 1.6133 - acc: 0.5257\n",
      "\n",
      "----- Generating text after Epoch: 2\n",
      "----- Generating with seed: \"ith a smaller rebel group and rightist p\"\n",
      "ith a smaller rebel group and rightist presidentiamens exicuntly taken se, sade hiw in indratial ald wsing of the abrodict conglane in eerplamed in the and cape-a for tilet four entired world in the eriopth , masy roupli wead hhar . difporting list menth talebon is the unity . mr. nasuss wat marlies have thees wo-ld this weeks of thencratus and fores of four in said tee ve taleban seazro \" but iraqi . sayerssued arto and war in luast onEpoch 4/25\n",
      "303368/303368 [==============================] - 104s 342us/step - loss: 1.4560 - acc: 0.5694s - loss: 1.4559 - acc: 0.5\n",
      "\n",
      "----- Generating text after Epoch: 3\n",
      "----- Generating with seed: \"sound trading environment for economic g\"\n",
      "sound trading environment for economic government and other derates tranefoum with drhanged near the threu-uth signed exterdier national for for the global year to developing a stobm president bush reports rate for the works of the repanes on the wet e conened there day not an in iraq , mador a resufters outsade ( 27 of jet top , to diddive redicions . \" an and atraeti in rase a emecged to veatingacy the verezue tome montas , the readerEpoch 5/25\n",
      "303368/303368 [==============================] - 104s 341us/step - loss: 1.3464 - acc: 0.5999\n",
      "\n",
      "----- Generating text after Epoch: 4\n",
      "----- Generating with seed: \"nified command of nato . the un security\"\n",
      "nified command of nato . the un security leader says mr.  hinder foreign bomb jounnalitters in ubanize moye were stated posses investigation enfor firm. says this minist y the oldmri dear burankilli , the united ntates hostroguted the hes fiohter to must to trust wasts the attack on dusing mexico . energy and new dors-n-tienditate said ctalstan of sudanese protest-lisching it last 2500 . the both remeess , net sate must in the missiles Epoch 6/25\n",
      "303368/303368 [==============================] - 103s 341us/step - loss: 1.2617 - acc: 0.6225\n",
      "\n",
      "----- Generating text after Epoch: 5\n",
      "----- Generating with seed: \"e runway during landing and crashed , sp\"\n",
      "e runway during landing and crashed , spokesman dlovult on the vote charge sharous allegations of poscess in satallater . president bush ach over the cerelon from authorities in saturday 's attack . shows and notembly killed by the military because lo spetoon7 . vileace for discusside in sobviews that barrel viclons in the early 2003 . sebon when the capital for the the duct is imbegifainaits in a condelnator in a bild lint . taleban miEpoch 7/25\n",
      "303368/303368 [==============================] - 104s 342us/step - loss: 1.1941 - acc: 0.6414s - loss: 1.1940 - acc: 0.64\n",
      "\n",
      "----- Generating text after Epoch: 6\n",
      "----- Generating with seed: \"ilitary personnel killed in battle . the\"\n",
      "ilitary personnel killed in battle . the attack in jumply by , sedicto hadsered held septedden to face to nationally century have decaded the town of a plane closer the houlling force dyangers . whiys too where te police theen opposition century . afthan that to man gaiper and stembullate out muka muslims of the region . next plot , kning hheliver . mashints to dives flugion dirict world recup for in juby 11 people over mole to annourceEpoch 8/25\n",
      "303368/303368 [==============================] - 103s 341us/step - loss: 1.1335 - acc: 0.6580s - los\n",
      "\n",
      "----- Generating text after Epoch: 7\n",
      "----- Generating with seed: \"he money will be used to provide both re\"\n",
      "he money will be used to provide both reauls now hit haj ugund u.s. latesp representatively afral than dozmikal , a what he says him , which ended in suckid : 20,200 ) as willlind of the wounded as second khos hamas for moverned to cartion by nusterrance , including a wordeg in the u.s. -bost 67 members had been deadlies . sing and palts at the leader 's out bereary 's president a scine a recards . protest ocleamer 's survay tead is theEpoch 9/25\n",
      "303368/303368 [==============================] - 104s 341us/step - loss: 1.0854 - acc: 0.6700\n",
      "\n",
      "----- Generating text after Epoch: 8\n",
      "----- Generating with seed: \"20-ton capsule by 2015 . a first launch \"\n",
      "20-ton capsule by 2015 . a first launch said filling sunday to adtaspates in judgi . the buildings in the one car bilint more and not . taggets flood in septembord 30 % of those  cun militants in since the palestinian negbon-200 commissed resurreges in baghdad follow rebels age tional wiongres shoups a review . it will be  . ministnop has speckorly deld aces said bigan inleant , the city of a parolar and ungen nocicities brogkpened in tEpoch 10/25\n",
      "303368/303368 [==============================] - 103s 341us/step - loss: 1.0466 - acc: 0.6809\n",
      "\n",
      "----- Generating text after Epoch: 9\n",
      "----- Generating with seed: \"s referendum , while 36 percent favored \"\n",
      "s referendum , while 36 percent favored by the siteout of manor government canidy , but iraq , and a fattorh security forces resounce and final hled boghting a bird flu by reter a dimbarin . hars kidnappen nearly spokesnays , mr. youthern officials are completed south ausing humanitarian newspapers ahabahtal . it has received and india and ungand has cances the world 's place . iraq 's taliban levers around ahmen arryad eegelay in 2001 Epoch 11/25\n",
      "303368/303368 [==============================] - 104s 341us/step - loss: 1.0167 - acc: 0.6886s - loss: 1. - ETA: 1s - loss: 1.0160 - ac - ETA: 0s - loss: 1.0164 - \n",
      "\n",
      "----- Generating text after Epoch: 10\n",
      "----- Generating with seed: \"wings by avant-garde artist and architec\"\n",
      "wings by avant-garde artist and architection to help armering china 's called the hamas 's most west bank 's north worling a secies of spokesman . meeging wemnesday in march of teerorsi has canceled to the special security confermance of mareeder in iraq of dargurie , state of bratul suidi . the indianal histerned from pruses lankmadion . media seconds seniors was deeghden huri . march thursday by carago . president hugricate 's premicaEpoch 12/25\n",
      "303368/303368 [==============================] - 103s 340us/step - loss: 0.9911 - acc: 0.6957\n",
      "\n",
      "----- Generating text after Epoch: 11\n",
      "----- Generating with seed: \"y economy and attracting foreign investm\"\n",
      "y economy and attracting foreign investmenters of american soldiers and congratuvity contractors out betines and killed at a heavy rain in six out . the statement says he said after a marck of the voce is settfedement state in two within other because it expects to relew it is wedper this week . but it would overfth effort to foreign defect to the shating in india he has been in the qear-atternatis attack on hart work from an israeli seEpoch 13/25\n",
      "303368/303368 [==============================] - 103s 340us/step - loss: 0.9682 - acc: 0.7025\n",
      "\n",
      "----- Generating text after Epoch: 12\n",
      "----- Generating with seed: \"d i will entice many partridges to you i\"\n"
     ]
    },
    {
     "name": "stdout",
     "output_type": "stream",
     "text": [
      "d i will entice many partridges to you inriel was shepted from auriince . months in tenevise looga . it was a stronghes or negotiations . former year . loter a peavile poor cuntive next strain has a clack of nuclear president ambialthation reters thought to report oclomina decrekas and eloptage into the creatop . whet said the shooting coald forces . a u.s. plans to briging vote on a norwhy was usristry an international general dofign mEpoch 14/25\n",
      "303368/303368 [==============================] - 104s 344us/step - loss: 0.9552 - acc: 0.7051\n",
      "\n",
      "----- Generating text after Epoch: 13\n",
      "----- Generating with seed: \"st of indonesia 's sumatra island since \"\n",
      "st of indonesia 's sumatra island since a crecusabal elections and defendants , redad mee tusheq atacy to goter a graund . a fired risl accedad legdenfs toladd an american statement says a group of 73 bilitures , the man worlyws . . the demension porters are presidential duciny deris . prospert and the scuakeoul , remates . north korea working on world in what they meeting from outside a resignation forces have been killed . alemina to Epoch 15/25\n",
      "303368/303368 [==============================] - 103s 341us/step - loss: 0.9429 - acc: 0.7084\n",
      "\n",
      "----- Generating text after Epoch: 14\n",
      "----- Generating with seed: \"ade up of larger developing countries an\"\n",
      "ade up of larger developing countries and second highes commont the former powing to de a nearly powt and the united states , sasing the traveling of adghan and imports laim daw . requestly widner privised tionbe six senting last week . officials also and paille statevery afger fighting since thas in signi gree ext . intractor . issuft 2003 construction land ares of al-quida will dead atcaed with the border with a szcllys , 4n-fire on tEpoch 16/25\n",
      "303368/303368 [==============================] - 104s 341us/step - loss: 0.9257 - acc: 0.7122\n",
      "\n",
      "----- Generating text after Epoch: 15\n",
      "----- Generating with seed: \"elicopter gunships attacked enemy positi\"\n",
      "elicopter gunships attacked enemy position has been set left a men 's performerch for hurmress of form the foruogopol and captured on sunday , and the set of gave the bomb strikes presement in israel 's parliament has adpedmayentar central roth till bas troups . radar vis trought two assoming not remains including a muntri lagort in 1921 . pakistan have been disanleget he has tradency . president bush says ponengy coppan di diguase for Epoch 17/25\n",
      "303368/303368 [==============================] - 103s 341us/step - loss: 0.9160 - acc: 0.7153s - loss: 0.9159 - acc:\n",
      "\n",
      "----- Generating text after Epoch: 16\n",
      "----- Generating with seed: \" the 2002 political crisis , which trigg\"\n",
      " the 2002 political crisis , which triggeded to attack . on . on the palestinian macapourove said whint over accusing plimban into a l montals . but among deat since 1983 would be confirmed , spear at the officials in abselled two adeas . nigerial edvayer province in the calling of mosup cyrain 's military . but ressors since the failing . menia reports that showed the amanitary exploded in the northern seburitue , which ongini , which Epoch 18/25\n",
      "303368/303368 [==============================] - 103s 341us/step - loss: 0.9052 - acc: 0.7186\n",
      "\n",
      "----- Generating text after Epoch: 17\n",
      "----- Generating with seed: \" the first set with an injured hip . aga\"\n",
      " the first set with an injured hip . agapans in a jaignation along the autunan perconneg to oil araitock , which beowned that local abbastanns for their leftimm . their down placts with iraq say a sape yazur is hardainst on iraq . the committee- informading with is daily achidved the just year violent rashal center nation is redicals . thats in section-law . growzed powched a suspected says it is virgings from the muslim the family hadmEpoch 19/25\n",
      "303368/303368 [==============================] - 104s 342us/step - loss: 0.8984 - acc: 0.7202\n",
      "\n",
      "----- Generating text after Epoch: 18\n",
      "----- Generating with seed: \"shan state on november 18 , after a farm\"\n",
      "shan state on november 18 , after a farmer worndar saturday . poor, agd nigerian peacekeepors raugh said u.s. nowy possible elections . whine 's later jown in the lawies , the victims in afghanistan since , on inveuvia-ly money have been president buth leaqy tearming  . 3008 -forbiogit to firm the deplation is an iraq leader vitters says many decase since washingtons sape the president vistor arming an enelm . given attract during the cEpoch 20/25\n",
      "303368/303368 [==============================] - 104s 342us/step - loss: 0.8898 - acc: 0.7227\n",
      "\n",
      "----- Generating text after Epoch: 19\n",
      "----- Generating with seed: \" new fires . the initial fires are being\"\n",
      " new fires . the initial fires are being held to masco the northwest bank kolumeti says of a than one plact . the world tracked in residing the eve year in the western province . the finh activity in afghanistan 's hold marid thursday dethens up from $ 1939 billion , faur in fulria , china is failure cherned out sworks a hols after the attack rase in the parliamentary elice agreed to intercational israeli relition . spechasian polech anEpoch 21/25\n",
      "303368/303368 [==============================] - 104s 342us/step - loss: 0.8792 - acc: 0.7250s - los\n",
      "\n",
      "----- Generating text after Epoch: 20\n",
      "----- Generating with seed: \" 51 percent of voters support a constitu\"\n",
      " 51 percent of voters support a constitution , strose countries that two crouds have been encludence of vision uncodal heart , the united states and after their president bictht at heatt of the ban on wusher dact for mott , canurtion militants say an israeli talks , assemilan says it will relies cyochers , peruving ilan is magoring misdies from afghanistan says in nign and have dieded unice monitions in months of kenya operation give seEpoch 22/25\n",
      "303368/303368 [==============================] - 103s 340us/step - loss: 0.8757 - acc: 0.7252\n",
      "\n",
      "----- Generating text after Epoch: 21\n",
      "----- Generating with seed: \"d on by u.s. aircraft using precision-gu\"\n",
      "d on by u.s. aircraft using precision-guth children during a shi'itian officials were killed this month to undire headed agriculture , germany , tribe mr. be the cubrian group . last month 's work for the committee as possible for day 2008 . let a loceence since auwhool and many of the uprising israel , which was blared the united nations have confirmed the 2000 , on thursday and transporats . in there agricuet gred e coult of foundatioEpoch 23/25\n",
      "303368/303368 [==============================] - 103s 340us/step - loss: 0.8684 - acc: 0.7280\n",
      "\n",
      "----- Generating text after Epoch: 22\n",
      "----- Generating with seed: \"according to the report , american worke\"\n",
      "according to the report , american worked of detact and alleged rebel government and authority to allow mand wiel war in a stratetia was cartion that lobal region . dillar. , kwas minies group states and esunasder in the west . carco sharen that several of 3406 to 2009 . in januari bessing french with the 18.0 to depert ferevies in the wintars power in kye noroc planning the pro-government . the syrian prices of foreigned in the countryEpoch 24/25\n",
      "303368/303368 [==============================] - 103s 341us/step - loss: 0.8616 - acc: 0.7300\n",
      "\n",
      "----- Generating text after Epoch: 23\n",
      "----- Generating with seed: \" the official news agency , kcna , on tu\"\n",
      " the official news agency , kcna , on tursed outs the w.s strate in second three feberal . the investigation israeli sitce of the mongholoral european countries to amurion yew situits have arrested at least six discuss to interration . the group seys that attech in weeksia say the united states and the united fatah 12 % of her to necrealte security his sunday . u.s. serrec of chsutioo of amdrisher continue to stspect the owe day centlarEpoch 25/25\n",
      "303368/303368 [==============================] - 104s 343us/step - loss: 0.8597 - acc: 0.7306s - loss: 0.8589 - acc: 0. - ETA: 0s - loss: 0.8590 - a\n",
      "\n",
      "----- Generating text after Epoch: 24\n",
      "----- Generating with seed: \"llion to victims of a 1984 anti-sikh rio\"\n",
      "llion to victims of a 1984 anti-sikh riosside , the eltasing border , noath the indian vice to face praced against northern people in arnian enclanah and gut in economy in searan hassen and made the moincities . uncoustive sharrnallahk of official party laym and afghanistan launched a peeplan . in a statement tuesday , all tainon has signed in a tunse suest be coments with crossing the area of the pope of gaganation , which is forcible "
     ]
    },
    {
     "data": {
      "text/plain": [
       "<keras.callbacks.History at 0x24aec4e9a20>"
      ]
     },
     "execution_count": 56,
     "metadata": {},
     "output_type": "execute_result"
    }
   ],
   "source": [
    "print_callback = LambdaCallback(on_epoch_end=on_epoch_end)\n",
    "modGru.fit(X_train_2, y_train_2,batch_size=256,epochs=25, callbacks=[print_callback])"
   ]
  },
  {
   "cell_type": "markdown",
   "metadata": {},
   "source": [
    "##### Pregunta O (CuDNNGRU)"
   ]
  },
  {
   "cell_type": "code",
   "execution_count": 57,
   "metadata": {},
   "outputs": [],
   "source": [
    "def on_epoch_end(epoch, logs):\n",
    "    print('\\n----- Generating text after Epoch: %d' % epoch)\n",
    "    start_index = random.randint(0, size - maxlen - 1)\n",
    "    sentence = text[start_index: start_index + maxlen]\n",
    "    print('----- Generating with seed: \"' + sentence + '\"')\n",
    "    sys.stdout.write(sentence)\n",
    "    for i in range(400):\n",
    "        next_char = predict_next_char(modCuD, sentence)\n",
    "        sentence = sentence[1:] + next_char\n",
    "        sys.stdout.write(next_char)\n",
    "        sys.stdout.flush()\n",
    "    return"
   ]
  },
  {
   "cell_type": "code",
   "execution_count": 58,
   "metadata": {},
   "outputs": [],
   "source": [
    "modCuD = modelCuD()"
   ]
  },
  {
   "cell_type": "code",
   "execution_count": 59,
   "metadata": {
    "scrolled": true
   },
   "outputs": [
    {
     "name": "stdout",
     "output_type": "stream",
     "text": [
      "Epoch 1/25\n",
      "303368/303368 [==============================] - 38s 125us/step - loss: 2.4465 - acc: 0.2949\n",
      "\n",
      "----- Generating text after Epoch: 0\n",
      "----- Generating with seed: \"mam hussein , who was killed in a battle\"\n",
      "mam hussein , who was killed in a battlee gun. ampectrighe , an laskred thay pudel . mevery inaq ervins of gath renparia ans isvesistunts tod the cespincar tos guncanith to kushing surlidgs siches in a be fursts das muss-count an offlotea 's sfer touffry ravimred to the leber hev sanured eeple e ratsity , in ta iman aman to muption said th-on mupmost crased on twapeded tro fmane , prieinge wrad codais mory an rupices say in rawian livisEpoch 2/25\n",
      "303368/303368 [==============================] - 35s 116us/step - loss: 1.8536 - acc: 0.45324 - ETA: 0s - loss: 1.8545 - acc: 0.4\n",
      "\n",
      "----- Generating text after Epoch: 1\n",
      "----- Generating with seed: \"he position . india and burma have signe\"\n",
      "he position . india and burma have signemed , . et . sores seivions suald traces requblies to congille in 1904 and senvistive government . crilges . daymbh fushdiming cremijing foreing the ,000 leysing the \" dang he livermal was allest government make the tho leging from the reboons . the crossside bosped their wankithe . a them-and military the ronates in the went whemer 20 250 panitbe . runslaking aufomies bed miritant in official melEpoch 3/25\n",
      "303368/303368 [==============================] - 35s 116us/step - loss: 1.5905 - acc: 0.5317\n",
      "\n",
      "----- Generating text after Epoch: 2\n",
      "----- Generating with seed: \"shi-khanabad , which american forces use\"\n",
      "shi-khanabad , which american forces use firld paitoroned dos the kest is in the country round in the country yevel , in least 1,000. 20d . a botw to aust of helivizy . the count in the lovests said and other senteer of istackanitws has tive of fouth of 4138 , sope ,00 earty one , \" was iranito . as the carrible olong-, dubliem borreri any a u.s. lavel have demens that russia 's faritijy and mak eupolem chriat is the wolld republic troiEpoch 4/25\n",
      "303368/303368 [==============================] - 35s 115us/step - loss: 1.4448 - acc: 0.5732\n",
      "\n",
      "----- Generating text after Epoch: 3\n",
      "----- Generating with seed: \"bush . the letter from house minority le\"\n",
      "bush . the letter from house minority leg and investigation of nexty begur eorly vasuic . the leading back on an international dorine authouities say they betted its coppaites every load house have been dichathed for with plance at a nearcy from iments of promacis frow voted . deeling file atteal president during a number of boebs and 35s500 billion as an amouny in argandad . thoshed newent . hame carref thirs poor grundine bogh 's violEpoch 5/25\n",
      "303368/303368 [==============================] - 35s 116us/step - loss: 1.3437 - acc: 0.6005\n",
      "\n",
      "----- Generating text after Epoch: 4\n",
      "----- Generating with seed: \"hite house , where they will have lunch \"\n",
      "hite house , where they will have lunch deal , after it doverno nations released part of a nator of the alleged af the rused by this month , and some fir not a meired declining that people hedioviouth conterying sumplies the veapensear . the will into may an invelvention led apcase serves in the goor 's lelarno , ceotwing united states the move thement fact government activity and kournalist week will want freech newby lececon , it willEpoch 6/25\n",
      "303368/303368 [==============================] - 35s 115us/step - loss: 1.2685 - acc: 0.6207\n",
      "\n",
      "----- Generating text after Epoch: 5\n",
      "----- Generating with seed: \"k , following charges that she violated \"\n",
      "k , following charges that she violated a tripary to his tange hols covinate to arman eurries at monut vatacity on gaida is chourder , uks qawarratif a mess in iraq play to vocations profect 's critician . it wo city of borbering a traincking indred to contitue at a gozlo$l capital toper a controver the seizhi mardinate bitanoumalday has resounces in conote from resioned to starimy bombers are collipion of sungay 's orderent swite energEpoch 7/25\n",
      "303368/303368 [==============================] - 35s 115us/step - loss: 1.2027 - acc: 0.6379\n",
      "\n",
      "----- Generating text after Epoch: 6\n",
      "----- Generating with seed: \"ple have been killed in the southern cit\"\n",
      "ple have been killed in the southern city of damage to protest in ara4ha business agency mosnow , the u.s. intolests the other duolts and southern iran to the country morders from the special of mund . taleban in african drmil prazallei , recent heaphence toinstan edeved mismils on financing , saturday , beijing . thursday . lebanishand says it han polited in patisting to pass the vity rounded laststor on nuclear were energy attacked thEpoch 8/25\n",
      "303368/303368 [==============================] - 35s 116us/step - loss: 1.1463 - acc: 0.6533\n",
      "\n",
      "----- Generating text after Epoch: 7\n",
      "----- Generating with seed: \"der sniper fire . his body armor saved h\"\n",
      "der sniper fire . his body armor saved his commenting batul bedine . u.s. officials say atol iast nuclear first side city \" bay after spoke witu nart . the zays terrorists say sold enel guilty in mid-roge than land and help dear and lifur tulnnoush refarred of the wrent oclair . loned loodes 9 for brurlials , relate to 1vanur a bargel national selucting to meepist national officials set build in urgent vayide the conflict republic , saiEpoch 9/25\n",
      "303368/303368 [==============================] - 35s 115us/step - loss: 1.0987 - acc: 0.66680s - loss: 1.0986 - ac\n",
      "\n",
      "----- Generating text after Epoch: 8\n",
      "----- Generating with seed: \"ion government . mr. katsav is to meet s\"\n",
      "ion government . mr. katsav is to meet since 1993 , but the secied leader is shi'ite a dilitire . it content the resolctor . the prima last week . tride monatchal province . share descited friday minister province on thursday . its new purscial report spannable chimp in an authiritaking . but said hrightry 's elicicial police citien are strike of walling space agreement to so the minister of the volleicher , killing about a lates freed Epoch 10/25\n",
      "303368/303368 [==============================] - 36s 120us/step - loss: 1.0545 - acc: 0.6794\n",
      "\n",
      "----- Generating text after Epoch: 9\n",
      "----- Generating with seed: \" incident . a u.s. immigration judge has\"\n",
      " incident . a u.s. immigration judge has wounded for an independent prime minister arail angara of india hak been ffection to participate . frenther wesper of wrenthar of a fubl criticized the political capital has dandara . the beanjing monday in the manjate 's occounce threatened to cint of rmisring with the recent commetting the visit . he has priceever for his winning army issued that a case now ministry started bluses who had alongEpoch 11/25\n",
      "303368/303368 [==============================] - 35s 116us/step - loss: 1.0182 - acc: 0.68921s - loss\n",
      "\n",
      "----- Generating text after Epoch: 10\n",
      "----- Generating with seed: \"fficials say two roadside bombs planted \"\n",
      "fficials say two roadside bombs planted . meanwhile , authinia is sevioimed in bagud on sharted . the british percent team are 7,5000 israelis of sufpected to the important of the fither and lid outing with the two near a terror was congress that leave secretary is not blem in the 15th and fear . he tens of the vowe he fired procrems and organizies . the the iriqe and insurgent misside with communist to three heart is likstory for vers Epoch 12/25\n",
      "303368/303368 [==============================] - 35s 116us/step - loss: 0.9906 - acc: 0.6958\n",
      "\n",
      "----- Generating text after Epoch: 11\n",
      "----- Generating with seed: \" canadian dollars ( us $ 13.73 ) . on th\"\n",
      " canadian dollars ( us $ 13.73 ) . on those workers in the capital , kjan as part of a sumare not a combuting pourn . the barbaging senior areas . the international command . ifration that he by japta mrughadd has incleded al-razating the pensol relatives of stabiling deportation , says noteing assests and trabuals . the crectors and possible , pethowes sharmailines . asular susan nations surcive through the town after israeli pease andEpoch 13/25\n",
      "303368/303368 [==============================] - 35s 116us/step - loss: 0.9663 - acc: 0.70211s\n",
      "\n",
      "----- Generating text after Epoch: 12\n",
      "----- Generating with seed: \"hed . a recent increase in violence in b\"\n",
      "hed . a recent increase in violence in baghdad , and rote the first indicate americans . beimis says thooofs -tales to omjore strike of al-qaida 's veoity government . as woll says it is tocter since 18 on maysia under to a repullicted the parestinian present of several handles of mocharing and assomatic senstory and national wust a december of percent in western decides lesisted two military says u. . dulitinate results aderusgens thatEpoch 14/25\n",
      "303368/303368 [==============================] - 35s 116us/step - loss: 0.9461 - acc: 0.70790s - loss: 0.9460 - acc: 0.7\n",
      "\n",
      "----- Generating text after Epoch: 13\n",
      "----- Generating with seed: \"rld trade organization in february , 199\"\n",
      "rld trade organization in february , 19999 . the gut his destroyicoms and u.s. zoose dournvisting the west manugation government latel this month . health fints in early 2094 , 14950 , in the west on guefflige trat photigh pirtcils of euthnews , and to lise is the shut . visit endigreated . prime minister wenker four affected by a \" hanous from the western jood have been terrorish in extrobeliget . it is not in moran but sapout weasseptEpoch 15/25\n",
      "303368/303368 [==============================] - 35s 116us/step - loss: 0.9355 - acc: 0.7103\n",
      "\n",
      "----- Generating text after Epoch: 14\n",
      "----- Generating with seed: \" reform of the education law created und\"\n",
      " reform of the education law created under partact anter the political construction profely until 19 the suspect . the new month , group has mety in the illea , says it was holding evidence with enter the leaders before a war . iran 's pare tability in the jauntry and terrorists in palling the vote counted along the dominingt . the varnes construction , repurling for east in the stofmonwol say said with a sign-donnes also repueced a fo$Epoch 16/25\n",
      "303368/303368 [==============================] - 35s 116us/step - loss: 0.9245 - acc: 0.7126\n",
      "\n",
      "----- Generating text after Epoch: 15\n",
      "----- Generating with seed: \"re leaving the mosque in dera ismail kha\"\n",
      "re leaving the mosque in dera ismail kharak those regurnty groups not entiffensement for alleged cooporation trigdert of a work to aide that his central will next year . that irents them world chink . the town of ital , khe namil wonking tax poorgerbur said they french reninien walling the line can loast , igraesing their communicy for they are reperued into a cap bast in a sear-that palestinian netwonks and that three months aired planEpoch 17/25\n",
      "303368/303368 [==============================] - 35s 116us/step - loss: 0.9169 - acc: 0.7148\n",
      "\n",
      "----- Generating text after Epoch: 16\n",
      "----- Generating with seed: \"i says she will form a new coalition gov\"\n",
      "i says she will form a new coalition government tunica served ahati still she thies woter of northern gethnent cetomicter blimes an amougstor during a roadside bomn in darfur boy to fama farm . butt heavy washington to discovery energy emerged country dispets . separatels , he assess that decisions to ampedem a bradelly trapf the annummed sanctions aurging hadas , on smandown falling britesh president talks with unallel and which tried Epoch 18/25\n",
      "303368/303368 [==============================] - 35s 116us/step - loss: 0.9114 - acc: 0.7166\n",
      "\n",
      "----- Generating text after Epoch: 17\n",
      "----- Generating with seed: \"derail next month 's national elections \"\n",
      "derail next month 's national elections in the northeast . a 2002 brusded will return for another comment in 2009 . the u.s. military hidered as have been unumeeted by the team is wonking a lingen to two million for the gall . the palestinian and outbility . nationalities say a political propore \" u.s. military four mayn for scheduled at entry lange cunturn manughancon , says it as saystend nex leare friday that notbe juil , which ccoutEpoch 19/25\n",
      "303368/303368 [==============================] - 35s 116us/step - loss: 0.9142 - acc: 0.71470s - loss: 0.9131 - acc: 0 - ETA: 0s - loss: 0.9132 - a\n",
      "\n",
      "----- Generating text after Epoch: 18\n",
      "----- Generating with seed: \"s salvage a disappointing holiday shoppi\"\n",
      "s salvage a disappointing holiday shoppia spich of sandah 's voosed bus lanese region , mr. bushs hilled the end of abothin health rebel urabiema said the treater , has killed discusses because of the u.s. concerns vot chrestery . after food and wranghing in gaza stric , in aula in the -strit to work and kind chinese depected of participates the dollor was scond to 1.1 , which talks in bedirration is allor develop at the candidate , whiEpoch 20/25\n",
      "303368/303368 [==============================] - 35s 116us/step - loss: 0.9091 - acc: 0.7165\n",
      "\n",
      "----- Generating text after Epoch: 19\n",
      "----- Generating with seed: \" where shi'ite muslim pilgrims are conve\"\n",
      " where shi'ite muslim pilgrims are convelted department spoke months . they undermare thorsan ,0,000 and ogapa encorrerso in the beire of narth roder . smanitor gords to crock were simplinis to office from pakistan because of all givinm to import to vain the epeconding % . published spans of the group focomaced by unumgu chene coording to the revenue , and the meeting , believes the dorlars with north korean opposition , central ammintiEpoch 21/25\n",
      "303368/303368 [==============================] - 35s 116us/step - loss: 0.9074 - acc: 0.7172\n",
      "\n",
      "----- Generating text after Epoch: 20\n",
      "----- Generating with seed: \"them in the fold . he gave his own goats\"\n",
      "them in the fold . he gave his own goats , north korean police say at mech a close troops were hold protesters and expected in berghn , the sypension from the economy from judg , dost of the openation for rack has been sixred from reinfill west caneirn-lod for israel 's most five marklesi planning about a new giols and police compiting u. . in the government between coroneting tenta . a panded on palestinian militant reports that the heEpoch 22/25\n",
      "303368/303368 [==============================] - 35s 116us/step - loss: 0.9041 - acc: 0.71781s - loss:\n",
      "\n",
      "----- Generating text after Epoch: 21\n",
      "----- Generating with seed: \" has crashed northwest of baghdad . ther\"\n",
      " has crashed northwest of baghdad . there yran that the government says dim killand also assests a pay by their calls for recently latt adrinved ty help of the pahel in a lower to mr. nisis and also been those the indernies for at least 200 files deciding for informed some missile , the source of numantsed ifferting serving aid at least one that is concince . rebirs said the plann to camimanian badicut that several capsublication in novEpoch 23/25\n",
      "303368/303368 [==============================] - 35s 115us/step - loss: 0.9065 - acc: 0.7164\n",
      "\n",
      "----- Generating text after Epoch: 22\n",
      "----- Generating with seed: \" the entire gulf coast region and warned\"\n",
      " the entire gulf coast region and warned decharstants are smieli were in the 16ts . earliar military officials have not enterstail in the gear . the afghan arrivisi nations quict outside the 35-year-els . the country is boandana markan . the u.s. military officials had edplided in when a southeast attack that the former a traff cammed a -loal stape . the u.s. northwest of the town . it caunding the palestinian country , of birds flow hoEpoch 24/25\n",
      "303368/303368 [==============================] - 35s 115us/step - loss: 0.9073 - acc: 0.7162\n",
      "\n",
      "----- Generating text after Epoch: 23\n",
      "----- Generating with seed: \"auxite / alumina . remittances account f\"\n",
      "auxite / alumina . remittances account for coalition forces have been unimed about 16 people deddist the country for genous at acon members of votes accused the group say the efforts of its longhan in 2004 . a suicide bomber , where the first lireounce , in the dars , secarother , gyri . rebels were expected to be denied conomeers and former diving of prime minister ariai . in the campaign union leading requorts to press stateed a siftlEpoch 25/25\n",
      "303368/303368 [==============================] - 35s 115us/step - loss: 0.9121 - acc: 0.7144\n",
      "\n",
      "----- Generating text after Epoch: 24\n",
      "----- Generating with seed: \" than a third of those with depression r\"\n"
     ]
    },
    {
     "name": "stdout",
     "output_type": "stream",
     "text": [
      " than a third of those with depression recented strike with make officials hode to allow bush , russian term of under hossia bilitions or two istans , macro resulted the western regines . the name of a group on palling for the u.s. shilite and meetings . boiting iner of palestinian authorities say a tatilling in 2006 doan redeired a six prisoners . in violence saturday in mexturing in afghanistan has refearsing into a friday fas the bom"
     ]
    },
    {
     "data": {
      "text/plain": [
       "<keras.callbacks.History at 0x24b09c9a5c0>"
      ]
     },
     "execution_count": 59,
     "metadata": {},
     "output_type": "execute_result"
    }
   ],
   "source": [
    "print_callback = LambdaCallback(on_epoch_end=on_epoch_end)\n",
    "modCuD.fit(X_train_2, y_train_2,batch_size=256,epochs=25, callbacks=[print_callback])"
   ]
  },
  {
   "cell_type": "markdown",
   "metadata": {},
   "source": [
    "> La técnica es cambiando los valores de la función randint a los valores más cercanos de los esperados, los valores se cambian con el entrenamiento de red"
   ]
  },
  {
   "cell_type": "markdown",
   "metadata": {},
   "source": [
    "##### Pregunta P (GRU)"
   ]
  },
  {
   "cell_type": "code",
   "execution_count": 60,
   "metadata": {},
   "outputs": [
    {
     "name": "stdout",
     "output_type": "stream",
     "text": [
      "----- Generating with seed: \"it is \"\n",
      "it is seet well and a regueance , wmicted but that hushere 's held two muk as his for the approval , the new foreal nationatile day aspear his provina in wednes blume nine with preside terror , the still deccary the united repire shilina in center grants watted opposes the cauteoral the protes the moneparanelesking the capture thursda in record wiles techonal wedees , wespens , and anrisu est africa , w"
     ]
    }
   ],
   "source": [
    "sentence = \"it is \"\n",
    "print('----- Generating with seed: \"' + sentence + '\"')\n",
    "sys.stdout.write(sentence)\n",
    "for i in range(400):\n",
    "    next_char = predict_next_char(modGru, sentence)\n",
    "    sentence = sentence[1:] + next_char \n",
    "    sys.stdout.write(next_char)\n",
    "    sys.stdout.flush()"
   ]
  },
  {
   "cell_type": "markdown",
   "metadata": {},
   "source": [
    "##### Pregunta  P (CuDNNGRU)"
   ]
  },
  {
   "cell_type": "code",
   "execution_count": 61,
   "metadata": {},
   "outputs": [
    {
     "name": "stdout",
     "output_type": "stream",
     "text": [
      "----- Generating with seed: \"it is \"\n",
      "it is may efficite . in the hore . he says of zean north during bories convict is came the for party . chines of his search of a reporters , a reacres , congres . new person is doment , bochar of barin and latest level-state . englishon national carriel his ortana maheled aloun emergen afghan euctadak . it step an engode . a surmon , the companed is to report effort and nearly , the his export for that "
     ]
    }
   ],
   "source": [
    "sentence = \"it is \"\n",
    "print('----- Generating with seed: \"' + sentence + '\"')\n",
    "sys.stdout.write(sentence)\n",
    "for i in range(400):\n",
    "    next_char = predict_next_char(modCuD, sentence)\n",
    "    sentence = sentence[1:] + next_char \n",
    "    sys.stdout.write(next_char)\n",
    "    sys.stdout.flush()"
   ]
  },
  {
   "cell_type": "markdown",
   "metadata": {},
   "source": [
    "> Las frases generadas harían mucho menos sentido porque el efecto de la red sería mucho más sensible, así que el hecho de haber generado una frase con un sentido intetecto dice que la red fue entrenada de manera correcta"
   ]
  },
  {
   "cell_type": "code",
   "execution_count": null,
   "metadata": {},
   "outputs": [],
   "source": []
  }
 ],
 "metadata": {
  "kernelspec": {
   "display_name": "Python 3",
   "language": "python",
   "name": "python3"
  },
  "language_info": {
   "codemirror_mode": {
    "name": "ipython",
    "version": 3
   },
   "file_extension": ".py",
   "mimetype": "text/x-python",
   "name": "python",
   "nbconvert_exporter": "python",
   "pygments_lexer": "ipython3",
   "version": "3.6.7"
  }
 },
 "nbformat": 4,
 "nbformat_minor": 2
}
